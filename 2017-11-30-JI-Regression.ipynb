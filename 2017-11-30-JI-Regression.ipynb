{
 "cells": [
  {
   "cell_type": "markdown",
   "metadata": {},
   "source": [
    "# Lineare und logistische Regression\n",
    "\n",
    "Die linerare und logistische Regression sind statistische Analyseverfahren der Regressionsanalyse, deren Ziel es ist, Beziehungen und Abhängigkeiten von einer oder mehrerer Variablen untereinander darzustellen. \n",
    "Mit der Hilfe der Regressionsanalyse können unter anderem Prognosen und Vorhersagen für den Wert y getroffen werden, wenn Werte für x vorliegen. Außerdem kann die Stärke des Zusammenhangs bestimmt werden.\n",
    "\n",
    "Allgemeine mathematische Formulierung für den eindimensionalen Fall:\n",
    "\n",
    "$$\n",
    "y = f(x) + e\n",
    "$$\n",
    "\n",
    "wobei y die abhängige Variable darstellt, x die unabhängige Variable (Einflussgröße) und e eine Störgröße, die eine Abweichung vom exakten funktionalen Zusammenhang y = f(x) zulässt, um so mögliche Streuungen zu erklären. Das Ziel ist es, die abhänge Variable möglichst genau durch die Funktion zu erklären und die Störgröße so klein wie möglich zu halten.\n",
    "\n",
    "Allgemeine mathematische Formulierung für den mehrdimensionalen Fall:\n",
    "\n",
    "$$\n",
    "y = f(x_1,x_2,...,x_n) + e\n",
    "$$\n",
    "\n",
    "wobei hier mehrere x Einfluss auf die Funktion f haben."
   ]
  },
  {
   "cell_type": "markdown",
   "metadata": {},
   "source": [
    "## 1. Lineare Regression\n",
    "### 1.1. Einfache lineare Regression\n",
    "#### 1.1.1 Einfache lineare Regression (deskriptiv)\n",
    "Bei der einfachen linearen Regression werden zwei metrische (d.h. die Ausprägungen haben tatsächlich die Bedeutung der Zahl, z.B. Alter) Variablen X (Einflussgröße) und Y (Zielgröße) betrachtet. Durch die Punkte $(X_i/Y_i), i = 1,...,n $ wird eine Ausgleichsgerade gelegt.\n",
    "Der Zusammenhang der Variablen kann in diesem Fall durch die Funktion\n",
    "\n",
    "$$ \n",
    "y = b_0 + b_1x\n",
    "$$\n",
    "\n",
    "beschrieben werden.\n",
    "Damit ergibt sich für die einfache lineare Regression die Form\n",
    "\n",
    "$$\n",
    "y_i = b_0 + b_1  x_i + e_i ,          i = 1,...,n\n",
    "$$\n",
    "\n",
    "bezüglich der Ausgangspunkte.\n",
    "\n",
    "Eine geeignete Methode, um den Fehler möglichst gering zu halten, bietet die Methode der Kleinsten Quadrate (KQ). Dabei werden die Werte $\\widehat{b}_o$ und $\\widehat{b}_1$ bestimmt, für die die Summe der quadrierten Abweichungen das Minimum erreicht.\n",
    "\n",
    "$$\n",
    "F(b_0,b_1) = \\sum_{i=1}^{n}e_i^2 = \\sum_{i=1}^{n} (y_i - (b_0 + b_1x_i))^2\n",
    "$$\n",
    "\n",
    "Daraus resultiert die Regressionsgerade\n",
    "\n",
    "$$\n",
    "\\widehat{y} = \\widehat{b}_o + \\widehat{b}_1x\n",
    "$$\n",
    "\n",
    "mit\n",
    "\n",
    "$$\n",
    "\\widehat{b}_0 = \\bar{y} - \\widehat{b}_1\\bar{x} \n",
    "$$\n",
    "\n",
    "und\n",
    "\n",
    "$$\n",
    "\\widehat{b}_1 = \\frac{\\sum_{i=1}^{n}(x_i - \\bar{x})(y_i - \\bar{y})}{\\sum_{i=1}^{n}(x_i - \\bar{x})^2} = \\frac{\\sum_{i=1}^{n}x_i y_i - \\sum_{i=1}^{n}x_i \\sum_{i=1}^{n}y_i}{\\sum_{i=1}^{n}x_i^2 - (\\sum_{i=1}^{n}x_i)^2} = \\frac{\\overline{xy} - \\bar{x}\\bar{y}}{\\overline{x^2} - \\bar{x}^2} = \\frac{s_{xy}}{s_x^2}\n",
    "$$\n",
    "\n",
    "wobei $s_{xy}$ der empirischen Kovarianz von (X,Y) (Maß für den Zusammenhang zweier Variablen, positiv wenn kleine X kleinen Y entsprechen und große X großen Y, negativ wenn nicht) entspricht und $s_x^2$ der Stichprobenvarianz von X.\n",
    "\n",
    "\n",
    "Als Residuum $\\widehat{e}_i$ bezeichnet man die Differenz, also Abweichungen, zwischen dem empirischen und geschätzten $y_i$. \n",
    "\n",
    "$$ \n",
    "\\widehat{e}_i = y_i - \\widehat{y}_i\n",
    "$$\n",
    "\n",
    "Mithilfe der Streuungszerlegung kann beurteilt werden, wie gut die Regeressionsgerade die Punkte beschreibt.\n",
    "\n",
    "$$\n",
    "SS_{Total} = SS_{Modell} + SS_{Fehler} \n",
    "$$\n",
    "$$\n",
    "\\sum_{i=1}^{n}(y_i - \\bar{y})^2 = \\sum_{i=1}^{n}(\\widehat{y}_i - \\bar{y})^2 + \\sum_{i=1}^{n}(y_i - \\widehat{y}_i)^2\n",
    "$$\n",
    "wobei $SS_{Total}$ die Gesamtstreuung der beobachteten Werte, $SS_{Modell}$ die erklärte Streuung durch das Modell und $SS_{Fehler}$ die Residualstreuung angibt. \n",
    "\n",
    "Bei großem $SS_{Total}$ beschreibt die Regressionsgerade die Punkte gut, bei kleinem schlecht.\n",
    "\n",
    "Die Güte der Modellanpassung kann durch das Bestimmtheitsmaß angeben werden.\n",
    "\n",
    "$$\n",
    "R^2 = \\frac{SS_{Modell}}{SS_{Total}} = 1 - \\frac{SS_{Fehler}}{SS_{Total}}\n",
    "$$\n",
    "\n",
    "$R^2$ kann Maße zwischen 0 und 1 annehmen. Ein perfekter linearer Zusammenhang besteht für $R^2 = 1$.\n",
    "\n",
    "#### 1.1.2. Das einfache lineare Regressionsmodell (stochastisch)\n",
    "\n",
    "Das einfache lineare Regressionsmodell (gilt auch für nicht beobachtete Werte) wird beschrieben durch\n",
    "\n",
    "$$\n",
    "Y_i = \\beta_0 + \\beta_1 x_i + \\epsilon_i , i = 1,...,n\n",
    "$$\n",
    "\n",
    "Die Störgrößen $\\epsilon_i$ umfassen in diesem Fall Messfehler oder andere Variablen, die zusätzlich einen Einfluss auf Y ausüben, die aber im Vergleich zu X deutlich weniger Erklärungswert für Y bieten.\n",
    "Für die Störvariablen gilt\n",
    "\n",
    "$$\n",
    "E(\\epsilon_i) = 0 $$ und $$ Var(\\epsilon_i) = \\delta^2\n",
    "$$\n",
    "da sie unabhängig und identisch verteilt sind.\n",
    "\n",
    "Analog zur einfachen linearen Regression ergeben sich für\n",
    "\n",
    "$$\n",
    "\\widehat{\\beta}_0 = \\bar{Y} - \\widehat{\\beta}_1\\bar{x} \n",
    "$$\n",
    "\n",
    "$$\n",
    "\\widehat{\\beta}_1 = \\frac{\\sum_{i=1}^{n}(x_i - \\bar{x})(Y_i - \\bar{Y})}{\\sum_{i=1}^{n}(x_i - \\bar{x})^2}\n",
    "$$\n",
    "\n",
    "Ebenfalls ergibt sich für die Residuen\n",
    "\n",
    "$$\n",
    "\\widehat{\\epsilon}_i = Y_i - \\widehat{Y}_i, i = 1,...,n\n",
    "$$\n",
    "mit \n",
    "$$\n",
    "\\widehat{Y}_i = \\widehat{\\beta}_0 + \\widehat{\\beta}_1 x_i\n",
    "$$\n",
    "\n",
    "Als erwartungstreue Schätzfunktion für $\\sigma^2$ ergibt sich\n",
    "\n",
    "$$\n",
    "\\widehat{\\sigma}^2 = \\frac{1}{n-2}\\sum_{i=1}^{n}\\widehat{\\epsilon}_i^2\n",
    "$$\n",
    "\n",
    "#### 1.1.3. Konfidenzintervall\n",
    "Die KI zeigen zwischen welchen Grenzen der wahre $\\beta$ in der Grundgesamtheit mit 95%iger Wahrscheinlichkeit liegt. (Bei $\\alpha$ = 5%)\n",
    "Vorsicht bei der Interpretation der Regressionskoeffizienten ist geboten, wenn innerhalb des KI ein Vorzeichenwechsel statt findet.\n",
    "\n",
    "Zur Berechnung des KI geht man von einer Normalverteilung aus.\n",
    "Für das KI von $\\beta_0$ erhält man dann\n",
    "\n",
    "$$\n",
    "\\widehat\\beta_0 - t_{n-2;1-\\alpha/2}\\widehat\\sigma_{\\widehat\\beta_0};\\widehat\\beta_0 + t_{n-2;1-\\alpha/2}\\widehat\\sigma_{\\widehat\\beta_0}\n",
    "$$\n",
    "\n",
    "Selbiges gilt mit $\\beta_1$ für KI von $\\beta_1$\n",
    "\n",
    "#### 1.1.4. Prognoseintervalle\n",
    "\n",
    "Mithilfe der Prognoseintervalle lässt sich für für einen neuen Wert der zugehörige Y Wert schätzen.\n",
    "Eine sinnvolle Prognose ergibt sich aus\n",
    "\n",
    "$$\n",
    "\\widehat{y}_x = \\widehat{\\beta}_0 + \\widehat{\\beta}_1 x\n",
    "$$\n",
    "Durch das Prognoseintervall lässt sich die Vorhersagepräzision und Vorhersagesicherheit ausdrücken, also mit welcher Wahrscheinlichkeit (1 - $\\alpha$) Y an der Stelle x einen Wert annehmen wird, der im Prognoseintervall liegt\n",
    "\n",
    "$$\n",
    "\\widehat{Y}_x - t_{n-2;1-\\alpha/2} \\widehat{\\sigma} \\sqrt{1 + \\frac{1}{n} + \\frac{(x-\\bar{x})^2}{\\sum_{i=1}^{n}(x_i - \\bar{x})^2}}; \\widehat{Y}_x + t_{n-2;1-\\alpha/2} \\widehat{\\sigma} \\sqrt{1 + \\frac{1}{n} + \\frac{(x-\\bar{x})^2}{\\sum_{i=1}^{n}(x_i - \\bar{x})^2}}\n",
    "$$\n",
    "\n",
    "#### 1.1.5. Bewertung des Modells\n",
    "\n",
    "Getestest wird mit einem Signifikanzniveau von $\\alpha$ = 5%. \n",
    "Ist p < $\\alpha$ ist der ermittelte Regressionskoeffizient statistisch signifikant.\n",
    "Ist p >= $\\alpha$ ist der ermittelte Regressionskoeffizient statistisch nicht signifikant, d.h. der Wert hat nahezu keinen Einfluss auf die Zielvariable.\n",
    "\n",
    "#### 1.1.6. Residuenanalyse\n",
    "\n",
    "Die Residualanalyse eignet sich zur Überprüfung des angepassten Modells. Dafür wird ein Residuendiagramm (mit QQ-Plot) für standardisierte Residuen $r_i$ erstellt.\n",
    "\n",
    "$$\n",
    "r_i = \\widehat{\\epsilon}_i / \\sqrt{\\widehat{Var}(\\widehat{\\epsilon}_i)}\n",
    "$$\n",
    "\n",
    "\n",
    "Liegt eine systematische Änderung des Mittels vor, deutet es darauf hin, dass die ermittelte Regressionsgerade die Abhängigkeit nicht adäquat erfasst.\n",
    "In diesem Fall wäre eine robuste Regression angebracht."
   ]
  },
  {
   "cell_type": "markdown",
   "metadata": {},
   "source": [
    "##### Kommentar FF:\n",
    "\n",
    " Bei 1.1.6: Vielleicht wäre ein Bruch bei ri schöner als das /\n",
    "\n",
    "\n",
    "\n",
    "$$\n",
    "r_i = \\frac{\\widehat{\\epsilon}_i} {\\sqrt{\\widehat{Var}(\\widehat{\\epsilon}_i)}}\n",
    "$$"
   ]
  },
  {
   "cell_type": "markdown",
   "metadata": {},
   "source": [
    "### 1.2. Multiple lineare Regression\n",
    "Im Fall der multiplen linearen Regression gibt es mehrere erklärende Variablen X für die Zielvariable Y.\n",
    "Dabei muss Y eine metrische Variable sein und X metrisch oder kategorial.\n",
    "Bei kategorialen Variablen (k Kategorien) ist eine 0-1-Dummy-Kodierung notwendig, d.h. es werden k-1 Dummy-Variablen erstellt. Für die k-te Kategorie (Referenzkategorie) gilt dann der Wert 0, ansonsten 1.\n",
    "\n",
    "Es gilt die Funktion\n",
    "\n",
    "$$\n",
    "Y_i = \\beta_0 + \\beta_1 x_{i1} + ... + \\beta_p x_{ip} + \\epsilon_i , i = 1,...,n\n",
    "$$\n",
    "\n",
    "oder als Matrix\n",
    "\n",
    "$$\n",
    "\\mathbf{Y} = \\mathbf{X\\beta} + \\epsilon\n",
    "$$\n",
    "\n",
    "Die Regressoren sind korreliert, d.h. wenn sich ein Regressor verändert, müssen sich auch die anderen verändern.\n",
    "\n",
    "$\\widehat{\\beta}$ kann ebenfalls durch KQ geschätzt werden durch\n",
    "\n",
    "$$\n",
    "\\widehat{\\beta} = \\mathbf{(X'X)^{-1}X'Y}\n",
    "$$\n",
    "\n",
    "Anders als bei der einfachen linearen Regression wird hier keine Gerade bestimmt, sondern eine Hyperebene, die durch die Punktewolke geht.\n",
    "Die Residuen werden berechnet wie bei der einfachen linearen Regression.\n",
    "\n",
    "Eine erwartungstreue Schätzung von $\\sigma^2$ erhält man durch\n",
    "\n",
    "$$\n",
    "\\sigma^2 = \\frac{1}{n-p-1}\\sum_{i=1}^{n}(y_i - \\widehat{y}_i)^2\n",
    "$$\n",
    "\n",
    "Je kleiner $\\sigma^2$, desto genauer ist die Schätzung.\n",
    "\n",
    "Damit lässt sich die Kovarianzmatrix der Koeffizienzenschätzer schätzen:\n",
    "\n",
    "$$\n",
    "\\widehat{Var}(\\widehat{\\beta}) = \\widehat{\\sigma}^2\\mathbf{(X'X)}^{-1}\n",
    "$$\n",
    "Die Kovarianz gibt die Richtung einer Beziehung zwischen den Variablen an, trifft aber keine Aussage über die Stärke. Eine positive Kovarianz steht für einen monotonen Zusammenhang (z.B. niedrige X entsprechen niedrigen Y), negative Kovarianz steht für einen gegensinnigen monotonen Zusammenhang.\n",
    "\n",
    "Mithilfe des Bestimmtheitsmaßes kann auch hier die Regression beurteilt werden.\n",
    "\n",
    "$$\n",
    "R^2 = \\frac{\\mathbf{y'X\\widehat{\\beta}} - n\\bar{y}^2}{\\mathbf{y'y} - n \\bar{y}^2}\n",
    "$$\n",
    "\n",
    "Durch das adjustierte Bestimmtheitsmaß kann der Anteil der erklärten Varianz bestimmt werden, durch setzen Erwartungstreuer Varianzschätzer ins Verhältnis\n",
    "\n",
    "$$\n",
    "R_{adj}^2 = 1 - \\frac{\\widehat{\\sigma}_{\\epsilon}^2}{s_Y^2}\n",
    "$$\n",
    "\n",
    "#### 1.2.1. Prognoseintervalle\n",
    "\n",
    "Im Fall der multiplen linearen Regression ergibt sich eine sinnvolle Prognose aus \n",
    "\n",
    "$$\n",
    "\\widehat{Y}_x = \\widehat{\\beta}_o + \\widehat{\\beta}_1 x_1 + ... + \\widehat{\\beta}_p x_p\n",
    "$$\n",
    "\n",
    "Man erhält ein Prognoseintervall von\n",
    "\n",
    "$$\n",
    "\\mathbf{x\\widehat{\\beta}} - t_{n-p-1;1-\\alpha/2} \\widehat{\\sigma} \\sqrt{1+ \\mathbf{x(X'X)}^{-1} \\mathbf{x'}}; \\mathbf{x\\widehat{\\beta}} + t_{n-p-1;1-\\alpha/2} \\widehat{\\sigma} \\sqrt{1+ \\mathbf{x(X'X)}^{-1} \\mathbf{x'}}\n",
    "$$\n",
    "\n",
    "An der Stelle $\\mathbf{x}$ wird die Variable Y einen Wert annehmen, der im Prognoseintervall liegt, mit der Wahrscheinlichkeit von $1-\\alpha$."
   ]
  },
  {
   "cell_type": "markdown",
   "metadata": {},
   "source": [
    "## 2. Logistische Regression\n",
    "\n",
    "Bei der logistischen Regression handelt es sich bei der Zielvariable Y um eine kategoriale Größe, d.h. der lineare Ansatz ist nicht möglich. Das Logit Modell erklärt eine abhängige binäre oder multinominale Variable und ermöglicht es entsprechende Vorhersagen der Wahrscheinlichkeiten (Chance, dass ein Ereignis eintritt) zu treffen, ob ein Ereignis eintritt oder nicht.\n",
    "\n",
    "### 2.1. Binäre Modellformulierung\n",
    "\n",
    "Das binomiale logistische Regressionsmodell lautet:\n",
    "\n",
    "$$\n",
    "\\pi(x) = P(Y=1|(X_1,...,X_p) = x) = \\frac{1}{1 + exp(- \\beta_0 - x\\beta)}\n",
    "$$\n",
    "\n",
    "Die Funktion verläuft asymptotisch gegen y=0 und y=1, kann also nur Werte zwischen 0 und 1 annehmen. Ein Wert in der Nähe von 0 bedeutet, dass das Eintreten von Y sehr unwahrscheinlich ist, ein Wert in der Nähe von 1 bedeutet, dass das Eintreten von Y sehr wahrscheinlich ist.\n",
    "\n",
    "Üblicher ist jedoch die Angabe der Logit-Transformation als Umkehrfunktion:\n",
    "\n",
    "$$\n",
    "ln(\\frac{\\pi(x)}{1-\\pi(x)}) = \\beta_0 + \\beta_1X_1 +...+ \\beta_pX_p\n",
    "$$\n",
    "\n",
    "Ein Logit ist der Logarithmus eines Odd, also das Verhältnis vom Eintreffen eines Ereignisses zum nicht-eintreffen des Ereignisses, gibt also die Chance an, dass es Eintritt.\n",
    "\n",
    "Anders als bei der linearen Regression werden die Regressionskoeffizienten durch eine Iteration der Maximum-Likelihood-Methode geschätzt.\n",
    "Geeignete Tests zur Modelldiagnose sind der Wald-Test und Likelihood-Quotienten-Test.\n",
    "Wie immer gilt:\n",
    "p < $\\alpha$: signifikanter Einfluss auf Chance\n",
    "p > $\\alpha$: kein signifikanter Einfluss auf Chance\n",
    "\n",
    "Eine Maßzahl, um die erklärte Varianz abzuschätzen, bietet das Pseudo-Bestimmtheitsmaß:\n",
    "\n",
    "$$\n",
    "R_{MF}^2 = 1- \\frac{L(\\widehat{\\beta})}{L(\\widehat{\\beta}_0)}\n",
    "$$\n",
    "wobei $L(\\widehat{\\beta})$ das Loglikelihood des geschätzen Modells und $L(\\widehat{\\beta}_0)$ das Loglikelihood des Modells, das nur den konstanten Wert enthält ist.\n",
    "Das Pseudo-Bestimmtheitsmaß erreicht selten Werte > 0,8.\n",
    "\n",
    "Um die Vorhersagekraft einer logistischen Regression zu beurteilen eignet sich die ROC-Kurve.\n",
    "Die Kurve gibt auf der x-Achse die falsch-positive Rate an und auf der y-Achse die Sensitivität, also wahr-postitive Rate.\n",
    "Je weiter die Kurve von der Diagonalen weg ist, desto besser ist das Modell.\n",
    "Zusätzlich wird die Fläche unter der Kurve bestimmt (AUC). Dieser kann Werte zwischen 0,5 und 1 annehmen, je Näher er an 1 ist, desto besser ist das Modell."
   ]
  },
  {
   "cell_type": "markdown",
   "metadata": {},
   "source": [
    "## 3. Anwendung\n",
    "\n",
    "### 3.1. Einfache lineare Regression\n",
    "\n",
    "Im vorliegenden Datensatz \"Bauvolumen.dat\" wurde für verschiedene Regionen das Neubauvolumen bei Wohnhäusern in der Region ermittelt und die Menge der potentiellen Hauskäufer (Alter: 22-44 Jahre), um den Zusammenhang zwischen Bedarf an neuen Wohnhäusern und Bevölkerungswachstum zu untersuchen und somit Prognosen für die Bauaktivität erstellen zu können.\n",
    "\n",
    "Y: Bauvolumen (Bau)\n",
    "X: Bevölkerung (Bev)\n",
    "\n",
    "$$\n",
    "Y_i = \\beta_0 + \\beta_1 x_i + \\epsilon_i \n",
    "$$\n",
    "\n",
    "\n",
    "\n",
    "Zunächst wird der Datensatz \"Bauvolumen.dat\" eingelesen, mithilfe der einfachen linearen Regression dann die Abhängigkeit des Bauvolumens von der Bevölkerung betrachtet.\n",
    "Mit der Funktion read.table() wird ein Data Frame erzeugt.\n",
    "\n"
   ]
  },
  {
   "cell_type": "code",
   "execution_count": 2,
   "metadata": {
    "collapsed": true
   },
   "outputs": [],
   "source": [
    "bau <- read.table(\"data/Bauvolumen.dat\", header=T)"
   ]
  },
  {
   "cell_type": "markdown",
   "metadata": {},
   "source": [
    "Mit dem Aufruf summary() erhält man eine kurze Zusammenfassung der Daten."
   ]
  },
  {
   "cell_type": "code",
   "execution_count": 3,
   "metadata": {},
   "outputs": [
    {
     "data": {
      "text/plain": [
       "       Nr          Bev             Bau         \n",
       " Min.   : 1   Min.   :2.200   Min.   :0.08942  \n",
       " 1st Qu.: 7   1st Qu.:2.289   1st Qu.:0.10513  \n",
       " Median :13   Median :2.386   Median :0.11429  \n",
       " Mean   :13   Mean   :2.453   Mean   :0.11427  \n",
       " 3rd Qu.:19   3rd Qu.:2.631   3rd Qu.:0.12368  \n",
       " Max.   :25   Max.   :2.793   Max.   :0.13964  "
      ]
     },
     "metadata": {},
     "output_type": "display_data"
    }
   ],
   "source": [
    "summary(bau)"
   ]
  },
  {
   "cell_type": "code",
   "execution_count": 4,
   "metadata": {},
   "outputs": [
    {
     "name": "stdout",
     "output_type": "stream",
     "text": [
      "'data.frame':\t25 obs. of  3 variables:\n",
      " $ Nr : int  1 2 3 4 5 6 7 8 9 10 ...\n",
      " $ Bev: num  2.2 2.22 2.24 2.27 2.28 ...\n",
      " $ Bau: num  0.0909 0.0894 0.0975 0.0955 0.0968 ...\n"
     ]
    }
   ],
   "source": [
    "str(bau) # Struktur des DataFrames wird betrachtet"
   ]
  },
  {
   "cell_type": "markdown",
   "metadata": {},
   "source": [
    "Falls Missing Values vorhanden sind, müssen diese eliminiert werden."
   ]
  },
  {
   "cell_type": "code",
   "execution_count": 5,
   "metadata": {},
   "outputs": [
    {
     "name": "stdout",
     "output_type": "stream",
     "text": [
      "'data.frame':\t25 obs. of  3 variables:\n",
      " $ Nr : int  1 2 3 4 5 6 7 8 9 10 ...\n",
      " $ Bev: num  2.2 2.22 2.24 2.27 2.28 ...\n",
      " $ Bau: num  0.0909 0.0894 0.0975 0.0955 0.0968 ...\n"
     ]
    }
   ],
   "source": [
    "bau2 <- na.omit(bau)\n",
    "str(bau2)"
   ]
  },
  {
   "cell_type": "markdown",
   "metadata": {},
   "source": [
    "Als nächstes werden die Regresseionskoeffizienten mithilfe der Funktion lm ermittelt."
   ]
  },
  {
   "cell_type": "code",
   "execution_count": 6,
   "metadata": {},
   "outputs": [
    {
     "data": {
      "text/plain": [
       "\n",
       "Call:\n",
       "lm(formula = Bau ~ Bev)\n",
       "\n",
       "Coefficients:\n",
       "(Intercept)          Bev  \n",
       "   -0.06088      0.07141  \n"
      ]
     },
     "metadata": {},
     "output_type": "display_data"
    }
   ],
   "source": [
    "attach(bau2)\n",
    "modelbau <- lm(Bau~Bev)\n",
    "modelbau"
   ]
  },
  {
   "cell_type": "markdown",
   "metadata": {},
   "source": [
    "Mit den Regressionskoeffizienten erhält man die Gleichung:\n",
    "$$\n",
    "Y = -0,6088 + 0,07141X + \\epsilon\n",
    "$$"
   ]
  },
  {
   "cell_type": "markdown",
   "metadata": {},
   "source": [
    "Als nächstes wird das Bestimmtheitsmaß $R^2$ bestimmt, um die Güte der Modellanpassung beurteilen zu können."
   ]
  },
  {
   "cell_type": "code",
   "execution_count": 7,
   "metadata": {},
   "outputs": [
    {
     "data": {
      "text/plain": [
       "\n",
       "Call:\n",
       "lm(formula = Bau ~ Bev)\n",
       "\n",
       "Residuals:\n",
       "       Min         1Q     Median         3Q        Max \n",
       "-0.0083683 -0.0021329  0.0005252  0.0025572  0.0080754 \n",
       "\n",
       "Coefficients:\n",
       "             Estimate Std. Error t value Pr(>|t|)    \n",
       "(Intercept) -0.060884   0.010416  -5.845 5.89e-06 ***\n",
       "Bev          0.071410   0.004234  16.867 1.91e-14 ***\n",
       "---\n",
       "Signif. codes:  0 '***' 0.001 '**' 0.01 '*' 0.05 '.' 0.1 ' ' 1\n",
       "\n",
       "Residual standard error: 0.00408 on 23 degrees of freedom\n",
       "Multiple R-squared:  0.9252,\tAdjusted R-squared:  0.922 \n",
       "F-statistic: 284.5 on 1 and 23 DF,  p-value: 1.911e-14\n"
      ]
     },
     "metadata": {},
     "output_type": "display_data"
    }
   ],
   "source": [
    "summary(modelbau)"
   ]
  },
  {
   "cell_type": "markdown",
   "metadata": {},
   "source": [
    "Das Bestimmtheitsmaß beträgt 0,9252. Das heißt, knapp 93% der Varianz sind durch das beschriebene Modell erklärbar. Ab 90% spricht man von sehr guten Werten, das Modell ist also repräsentativ."
   ]
  },
  {
   "cell_type": "markdown",
   "metadata": {},
   "source": [
    "Das Scatterplot wird gezeichnet, die Funktion abline() zeichnet die ermittelte Regressionsgerade."
   ]
  },
  {
   "cell_type": "code",
   "execution_count": 8,
   "metadata": {},
   "outputs": [
    {
     "data": {
      "image/png": "[encoded data removed]",
      "text/plain": [
       "Plot with title \"Plot\""
      ]
     },
     "metadata": {},
     "output_type": "display_data"
    }
   ],
   "source": [
    "plot(Bev,Bau, pch=20, main = \"Plot\") # pch=20 zeichnet ausgefüllte Punkte. Mit main wird eine Überschrift gesetzt.\n",
    "abline(modelbau, col ='BLUE') # mit col wird die Farbe der Regressionsgerade gewählt."
   ]
  },
  {
   "cell_type": "markdown",
   "metadata": {},
   "source": [
    "In das Plot sollen nun das Konfidenzintervall und das Prognoseintervall integriert werden. Außerdem sollen Aussagen getroffen werden, wie groß der Wohnungsbedarf für die Werte Bev = 2.5, 3.0, 3.5 ist."
   ]
  },
  {
   "cell_type": "code",
   "execution_count": 9,
   "metadata": {},
   "outputs": [
    {
     "name": "stderr",
     "output_type": "stream",
     "text": [
      "Warning message in predict.lm(modelbau, interval = \"prediction\"):\n",
      "\"predictions on current data refer to _future_ responses\n",
      "\""
     ]
    },
    {
     "data": {
      "text/html": [
       "<dl class=dl-horizontal>\n",
       "\t<dt>1</dt>\n",
       "\t\t<dd>0.117640192843231</dd>\n",
       "\t<dt>2</dt>\n",
       "\t\t<dd>0.153345028186489</dd>\n",
       "\t<dt>3</dt>\n",
       "\t\t<dd>0.189049863529747</dd>\n",
       "</dl>\n"
      ],
      "text/latex": [
       "\\begin{description*}\n",
       "\\item[1] 0.117640192843231\n",
       "\\item[2] 0.153345028186489\n",
       "\\item[3] 0.189049863529747\n",
       "\\end{description*}\n"
      ],
      "text/markdown": [
       "1\n",
       ":   0.1176401928432312\n",
       ":   0.1533450281864893\n",
       ":   0.189049863529747\n",
       "\n"
      ],
      "text/plain": [
       "        1         2         3 \n",
       "0.1176402 0.1533450 0.1890499 "
      ]
     },
     "metadata": {},
     "output_type": "display_data"
    },
    {
     "data": {
      "image/png": "[encoded data removed]",
      "text/plain": [
       "Plot with title \"Plot\""
      ]
     },
     "metadata": {},
     "output_type": "display_data"
    }
   ],
   "source": [
    "plot(Bev,Bau, pch=20, main = \"Plot\")\n",
    "abline(modelbau, col ='BLUE')\n",
    "p <- predict.lm(modelbau, interval = \"confidence\") # Konfidenzintervall \n",
    "o <- order(Bev)\n",
    "lines(Bev[o],p[o,2])\n",
    "lines(Bev[o],p[o,3])\n",
    "p <- predict.lm(modelbau, interval = \"prediction\") # Prognoseintervall\n",
    "lines(Bev[o],p[o,2], col = \"RED\", lty = 2) # lty=2 macht eine gestrichelte Linie\n",
    "lines(Bev[o],p[o,3], col = \"RED\", lty = 2)\n",
    "predict.lm(modelbau, newdata=data.frame(Bev=c(2.5, 3.0, 3.5))) # , interval = \"confidence\")"
   ]
  },
  {
   "cell_type": "markdown",
   "metadata": {},
   "source": [
    "##### Kommentar FF:\n",
    "\n",
    "Code könnte mehr Kommentare enthalten: Was macht lines(BEV[o,2],p[o,2]) usw.\n",
    "\n",
    "Interpretation der der Graphik wäre schön. Was ist das Ergebnis?"
   ]
  },
  {
   "cell_type": "markdown",
   "metadata": {},
   "source": [
    "Residuenanalyse"
   ]
  },
  {
   "cell_type": "code",
   "execution_count": 9,
   "metadata": {},
   "outputs": [
    {
     "data": {
      "image/png": "[encoded data removed]",
      "text/plain": [
       "Plot with title \"Normal Q-Q Plot\""
      ]
     },
     "metadata": {},
     "output_type": "display_data"
    }
   ],
   "source": [
    "m <- model.matrix(modelbau)\n",
    "im <- solve(t(m)%*%m)\n",
    "H <- m%*%im%*%t(m)\n",
    "s2res <- 1-diag(H)\n",
    "e <- sort(modelbau$residuals/sqrt(s2res))\n",
    "qqnorm(e, pch=20)\n",
    "abline(mean(e[-c(1,length(e))]), sd(e[-c(1,length(e))]))"
   ]
  },
  {
   "cell_type": "markdown",
   "metadata": {},
   "source": [
    "##### Kommentar FF:\n",
    "\n",
    "Auch hier wären Erklärungen zum Code schön und auch die Interpretation der Graphik."
   ]
  },
  {
   "cell_type": "markdown",
   "metadata": {},
   "source": [
    "### 3.2. Multiple lineare Regression\n",
    "\n",
    "Der folgende Datensatz \"golfred.dat\" enthält für den gebrauchten Volkswagen Golf den Kaufpreis (Preis) in 1000€, das Baujahr (Jahr) in 1900, die KW und die gefahrenen KM in 1000. Die Variable Art definiert für 1 = Cabrio und 2 = gehobene Klasse, ansonsten 0.\n",
    "Es soll der Einfluss der Variablen Jahr, KW, KM und Art auf den Kaufpreis untersucht werden.\n",
    "\n",
    "Zunächst wäre für die Variable Art eine Dummy-Kodierung notwendig. Art = 0 wird als Referenzklasse gewählt, d.h. Cabrio und gehobene Klasse bekommen den Wert 1.\n"
   ]
  },
  {
   "cell_type": "code",
   "execution_count": 10,
   "metadata": {},
   "outputs": [
    {
     "name": "stdout",
     "output_type": "stream",
     "text": [
      "'data.frame':\t83 obs. of  5 variables:\n",
      " $ Jahr : int  95 92 95 92 93 94 97 89 89 86 ...\n",
      " $ KW   : int  55 55 44 51 55 66 74 75 66 55 ...\n",
      " $ Km   : num  66.5 75 50 76 39 37 8 75 139 78 ...\n",
      " $ Art  : int  0 0 0 0 0 0 0 0 0 0 ...\n",
      " $ Preis: num  9.44 6.4 7.45 3.98 7.75 ...\n"
     ]
    }
   ],
   "source": [
    "golf <- read.table(\"data/golfred.dat\", header =T)\n",
    "str(golf)"
   ]
  },
  {
   "cell_type": "code",
   "execution_count": 11,
   "metadata": {},
   "outputs": [
    {
     "name": "stdout",
     "output_type": "stream",
     "text": [
      "'data.frame':\t83 obs. of  5 variables:\n",
      " $ Jahr : int  95 92 95 92 93 94 97 89 89 86 ...\n",
      " $ KW   : int  55 55 44 51 55 66 74 75 66 55 ...\n",
      " $ Km   : num  66.5 75 50 76 39 37 8 75 139 78 ...\n",
      " $ Art  : int  0 0 0 0 0 0 0 0 0 0 ...\n",
      " $ Preis: num  9.44 6.4 7.45 3.98 7.75 ...\n"
     ]
    }
   ],
   "source": [
    "attach(golf)\n",
    "Art <- factor(Art)\n",
    "str(golf)"
   ]
  },
  {
   "cell_type": "code",
   "execution_count": 12,
   "metadata": {},
   "outputs": [
    {
     "data": {
      "text/plain": [
       "\n",
       "Call:\n",
       "lm(formula = Preis ~ Jahr + KW + Km + Art)\n",
       "\n",
       "Coefficients:\n",
       "(Intercept)         Jahr           KW           Km         Art1         Art2  \n",
       " -105.45636      1.19345      0.05295     -0.01621      1.82890     -0.19102  \n"
      ]
     },
     "metadata": {},
     "output_type": "display_data"
    }
   ],
   "source": [
    "golf2 <- lm(Preis~Jahr+KW+Km+Art)\n",
    "golf2"
   ]
  },
  {
   "cell_type": "code",
   "execution_count": 13,
   "metadata": {},
   "outputs": [
    {
     "data": {
      "text/plain": [
       "\n",
       "Call:\n",
       "lm(formula = Preis ~ Jahr + KW + Km + Art)\n",
       "\n",
       "Residuals:\n",
       "    Min      1Q  Median      3Q     Max \n",
       "-4.1656 -0.7736  0.0898  0.8705  4.9437 \n",
       "\n",
       "Coefficients:\n",
       "              Estimate Std. Error t value Pr(>|t|)    \n",
       "(Intercept) -1.055e+02  8.899e+00 -11.850  < 2e-16 ***\n",
       "Jahr         1.193e+00  8.984e-02  13.284  < 2e-16 ***\n",
       "KW           5.295e-02  1.039e-02   5.096 2.41e-06 ***\n",
       "Km          -1.621e-02  6.867e-03  -2.361  0.02075 *  \n",
       "Art1         1.829e+00  5.785e-01   3.161  0.00225 ** \n",
       "Art2        -1.910e-01  4.640e-01  -0.412  0.68171    \n",
       "---\n",
       "Signif. codes:  0 '***' 0.001 '**' 0.01 '*' 0.05 '.' 0.1 ' ' 1\n",
       "\n",
       "Residual standard error: 1.606 on 77 degrees of freedom\n",
       "Multiple R-squared:  0.8672,\tAdjusted R-squared:  0.8586 \n",
       "F-statistic: 100.6 on 5 and 77 DF,  p-value: < 2.2e-16\n"
      ]
     },
     "metadata": {},
     "output_type": "display_data"
    }
   ],
   "source": [
    "summary(golf2)"
   ]
  },
  {
   "cell_type": "markdown",
   "metadata": {},
   "source": [
    "##### Kommentar FF:\n",
    "\n",
    "Gleichung könnte hier wie bei Einfacher Regression explizit hingeschrieben werden, also: Y = ...."
   ]
  },
  {
   "cell_type": "markdown",
   "metadata": {},
   "source": [
    "Kovarianzmatrix wird erzeugt."
   ]
  },
  {
   "cell_type": "code",
   "execution_count": 14,
   "metadata": {},
   "outputs": [
    {
     "data": {
      "text/html": [
       "<table>\n",
       "<thead><tr><th></th><th scope=col>(Intercept)</th><th scope=col>Jahr</th><th scope=col>KW</th><th scope=col>Km</th><th scope=col>Art1</th><th scope=col>Art2</th></tr></thead>\n",
       "<tbody>\n",
       "\t<tr><th scope=row>(Intercept)</th><td>79.19896</td><td>-0.79640</td><td>-0.02307</td><td>-0.04497</td><td>-0.24773</td><td>-0.20136</td></tr>\n",
       "\t<tr><th scope=row>Jahr</th><td>-0.79640</td><td> 0.00807</td><td> 0.00016</td><td> 0.00043</td><td> 0.00246</td><td> 0.00215</td></tr>\n",
       "\t<tr><th scope=row>KW</th><td>-0.02307</td><td> 0.00016</td><td> 0.00011</td><td> 0.00002</td><td>-0.00050</td><td>-0.00088</td></tr>\n",
       "\t<tr><th scope=row>Km</th><td>-0.04497</td><td> 0.00043</td><td> 0.00002</td><td> 0.00005</td><td> 0.00005</td><td> 0.00015</td></tr>\n",
       "\t<tr><th scope=row>Art1</th><td>-0.24773</td><td> 0.00246</td><td>-0.00050</td><td> 0.00005</td><td> 0.33469</td><td> 0.04980</td></tr>\n",
       "\t<tr><th scope=row>Art2</th><td>-0.20136</td><td> 0.00215</td><td>-0.00088</td><td> 0.00015</td><td> 0.04980</td><td> 0.21529</td></tr>\n",
       "</tbody>\n",
       "</table>\n"
      ],
      "text/latex": [
       "\\begin{tabular}{r|llllll}\n",
       "  & (Intercept) & Jahr & KW & Km & Art1 & Art2\\\\\n",
       "\\hline\n",
       "\t(Intercept) & 79.19896 & -0.79640 & -0.02307 & -0.04497 & -0.24773 & -0.20136\\\\\n",
       "\tJahr & -0.79640 &  0.00807 &  0.00016 &  0.00043 &  0.00246 &  0.00215\\\\\n",
       "\tKW & -0.02307 &  0.00016 &  0.00011 &  0.00002 & -0.00050 & -0.00088\\\\\n",
       "\tKm & -0.04497 &  0.00043 &  0.00002 &  0.00005 &  0.00005 &  0.00015\\\\\n",
       "\tArt1 & -0.24773 &  0.00246 & -0.00050 &  0.00005 &  0.33469 &  0.04980\\\\\n",
       "\tArt2 & -0.20136 &  0.00215 & -0.00088 &  0.00015 &  0.04980 &  0.21529\\\\\n",
       "\\end{tabular}\n"
      ],
      "text/markdown": [
       "\n",
       "| <!--/--> | (Intercept) | Jahr | KW | Km | Art1 | Art2 | \n",
       "|---|---|---|---|---|---|\n",
       "| (Intercept) | 79.19896 | -0.79640 | -0.02307 | -0.04497 | -0.24773 | -0.20136 | \n",
       "| Jahr | -0.79640 |  0.00807 |  0.00016 |  0.00043 |  0.00246 |  0.00215 | \n",
       "| KW | -0.02307 |  0.00016 |  0.00011 |  0.00002 | -0.00050 | -0.00088 | \n",
       "| Km | -0.04497 |  0.00043 |  0.00002 |  0.00005 |  0.00005 |  0.00015 | \n",
       "| Art1 | -0.24773 |  0.00246 | -0.00050 |  0.00005 |  0.33469 |  0.04980 | \n",
       "| Art2 | -0.20136 |  0.00215 | -0.00088 |  0.00015 |  0.04980 |  0.21529 | \n",
       "\n",
       "\n"
      ],
      "text/plain": [
       "            (Intercept) Jahr     KW       Km       Art1     Art2    \n",
       "(Intercept) 79.19896    -0.79640 -0.02307 -0.04497 -0.24773 -0.20136\n",
       "Jahr        -0.79640     0.00807  0.00016  0.00043  0.00246  0.00215\n",
       "KW          -0.02307     0.00016  0.00011  0.00002 -0.00050 -0.00088\n",
       "Km          -0.04497     0.00043  0.00002  0.00005  0.00005  0.00015\n",
       "Art1        -0.24773     0.00246 -0.00050  0.00005  0.33469  0.04980\n",
       "Art2        -0.20136     0.00215 -0.00088  0.00015  0.04980  0.21529"
      ]
     },
     "metadata": {},
     "output_type": "display_data"
    }
   ],
   "source": [
    "M <- model.matrix(golf2)\n",
    "round((1.606^2)*solve(t(M)%*%M),5)"
   ]
  },
  {
   "cell_type": "code",
   "execution_count": 15,
   "metadata": {},
   "outputs": [
    {
     "data": {
      "text/html": [
       "<table>\n",
       "<thead><tr><th></th><th scope=col>(Intercept)</th><th scope=col>Jahr</th><th scope=col>KW</th><th scope=col>Km</th><th scope=col>Art1</th><th scope=col>Art2</th></tr></thead>\n",
       "<tbody>\n",
       "\t<tr><th scope=row>(Intercept)</th><td>79.19495773  </td><td>-0.7963622031</td><td>-2.306566e-02</td><td>-4.496805e-02</td><td>-2.477200e-01</td><td>-0.2013461464</td></tr>\n",
       "\t<tr><th scope=row>Jahr</th><td>-0.79636220  </td><td> 0.0080712082</td><td> 1.606588e-04</td><td> 4.340517e-04</td><td> 2.456751e-03</td><td> 0.0021494200</td></tr>\n",
       "\t<tr><th scope=row>KW</th><td>-0.02306566  </td><td> 0.0001606588</td><td> 1.079543e-04</td><td> 2.037643e-05</td><td>-4.988711e-04</td><td>-0.0008810074</td></tr>\n",
       "\t<tr><th scope=row>Km</th><td>-0.04496805  </td><td> 0.0004340517</td><td> 2.037643e-05</td><td> 4.715392e-05</td><td> 4.668683e-05</td><td> 0.0001541317</td></tr>\n",
       "\t<tr><th scope=row>Art1</th><td>-0.24771999  </td><td> 0.0024567514</td><td>-4.988711e-04</td><td> 4.668683e-05</td><td> 3.346725e-01</td><td> 0.0498002001</td></tr>\n",
       "\t<tr><th scope=row>Art2</th><td>-0.20134615  </td><td> 0.0021494200</td><td>-8.810074e-04</td><td> 1.541317e-04</td><td> 4.980020e-02</td><td> 0.2152770910</td></tr>\n",
       "</tbody>\n",
       "</table>\n"
      ],
      "text/latex": [
       "\\begin{tabular}{r|llllll}\n",
       "  & (Intercept) & Jahr & KW & Km & Art1 & Art2\\\\\n",
       "\\hline\n",
       "\t(Intercept) & 79.19495773   & -0.7963622031 & -2.306566e-02 & -4.496805e-02 & -2.477200e-01 & -0.2013461464\\\\\n",
       "\tJahr & -0.79636220   &  0.0080712082 &  1.606588e-04 &  4.340517e-04 &  2.456751e-03 &  0.0021494200\\\\\n",
       "\tKW & -0.02306566   &  0.0001606588 &  1.079543e-04 &  2.037643e-05 & -4.988711e-04 & -0.0008810074\\\\\n",
       "\tKm & -0.04496805   &  0.0004340517 &  2.037643e-05 &  4.715392e-05 &  4.668683e-05 &  0.0001541317\\\\\n",
       "\tArt1 & -0.24771999   &  0.0024567514 & -4.988711e-04 &  4.668683e-05 &  3.346725e-01 &  0.0498002001\\\\\n",
       "\tArt2 & -0.20134615   &  0.0021494200 & -8.810074e-04 &  1.541317e-04 &  4.980020e-02 &  0.2152770910\\\\\n",
       "\\end{tabular}\n"
      ],
      "text/markdown": [
       "\n",
       "| <!--/--> | (Intercept) | Jahr | KW | Km | Art1 | Art2 | \n",
       "|---|---|---|---|---|---|\n",
       "| (Intercept) | 79.19495773   | -0.7963622031 | -2.306566e-02 | -4.496805e-02 | -2.477200e-01 | -0.2013461464 | \n",
       "| Jahr | -0.79636220   |  0.0080712082 |  1.606588e-04 |  4.340517e-04 |  2.456751e-03 |  0.0021494200 | \n",
       "| KW | -0.02306566   |  0.0001606588 |  1.079543e-04 |  2.037643e-05 | -4.988711e-04 | -0.0008810074 | \n",
       "| Km | -0.04496805   |  0.0004340517 |  2.037643e-05 |  4.715392e-05 |  4.668683e-05 |  0.0001541317 | \n",
       "| Art1 | -0.24771999   |  0.0024567514 | -4.988711e-04 |  4.668683e-05 |  3.346725e-01 |  0.0498002001 | \n",
       "| Art2 | -0.20134615   |  0.0021494200 | -8.810074e-04 |  1.541317e-04 |  4.980020e-02 |  0.2152770910 | \n",
       "\n",
       "\n"
      ],
      "text/plain": [
       "            (Intercept) Jahr          KW            Km            Art1         \n",
       "(Intercept) 79.19495773 -0.7963622031 -2.306566e-02 -4.496805e-02 -2.477200e-01\n",
       "Jahr        -0.79636220  0.0080712082  1.606588e-04  4.340517e-04  2.456751e-03\n",
       "KW          -0.02306566  0.0001606588  1.079543e-04  2.037643e-05 -4.988711e-04\n",
       "Km          -0.04496805  0.0004340517  2.037643e-05  4.715392e-05  4.668683e-05\n",
       "Art1        -0.24771999  0.0024567514 -4.988711e-04  4.668683e-05  3.346725e-01\n",
       "Art2        -0.20134615  0.0021494200 -8.810074e-04  1.541317e-04  4.980020e-02\n",
       "            Art2         \n",
       "(Intercept) -0.2013461464\n",
       "Jahr         0.0021494200\n",
       "KW          -0.0008810074\n",
       "Km           0.0001541317\n",
       "Art1         0.0498002001\n",
       "Art2         0.2152770910"
      ]
     },
     "metadata": {},
     "output_type": "display_data"
    }
   ],
   "source": [
    "vcov(golf2)\n",
    "# viel einfachere Methode"
   ]
  },
  {
   "cell_type": "code",
   "execution_count": 16,
   "metadata": {},
   "outputs": [
    {
     "data": {
      "image/png": "[encoded data removed]",
      "text/plain": [
       "plot without title"
      ]
     },
     "metadata": {},
     "output_type": "display_data"
    }
   ],
   "source": [
    "plot(golf, pch=20)"
   ]
  },
  {
   "cell_type": "markdown",
   "metadata": {},
   "source": [
    "### 3.3. Logistische Regression\n"
   ]
  },
  {
   "cell_type": "markdown",
   "metadata": {},
   "source": [
    "Die Packages Amelia, pscl und RORC müssen installiert werden."
   ]
  },
  {
   "cell_type": "markdown",
   "metadata": {},
   "source": [
    "##### Kommentar FF:\n",
    "\n",
    "Erklärung, wie packages installiert werden???\n",
    "\n",
    "RORC konnte ich nicht installieren, jedoch ROCR. Ich denke, dass war dann ein Tippfehler?"
   ]
  },
  {
   "cell_type": "markdown",
   "metadata": {},
   "source": [
    "Der Datensatz Titanic (training) wird verwendet. Er enthält Daten über 891 der Passagiere, Ziel ist es, das Überleben vorherzusagen. (1 überlebt, 0 überlebt nicht)\n",
    "Der Datensatz muss zunächst vorbereitet werden."
   ]
  },
  {
   "cell_type": "code",
   "execution_count": 17,
   "metadata": {
    "collapsed": true
   },
   "outputs": [],
   "source": [
    "data <- read.csv(\"data/train.csv\", header = T, na.strings=c(\"\"))"
   ]
  },
  {
   "cell_type": "code",
   "execution_count": 18,
   "metadata": {},
   "outputs": [
    {
     "name": "stdout",
     "output_type": "stream",
     "text": [
      "'data.frame':\t891 obs. of  12 variables:\n",
      " $ PassengerId: int  1 2 3 4 5 6 7 8 9 10 ...\n",
      " $ Survived   : int  0 1 1 1 0 0 0 0 1 1 ...\n",
      " $ Pclass     : int  3 1 3 1 3 3 1 3 3 2 ...\n",
      " $ Name       : Factor w/ 891 levels \"Abbing, Mr. Anthony\",..: 109 191 358 277 16 559 520 629 417 581 ...\n",
      " $ Sex        : Factor w/ 2 levels \"female\",\"male\": 2 1 1 1 2 2 2 2 1 1 ...\n",
      " $ Age        : num  22 38 26 35 35 NA 54 2 27 14 ...\n",
      " $ SibSp      : int  1 1 0 1 0 0 0 3 0 1 ...\n",
      " $ Parch      : int  0 0 0 0 0 0 0 1 2 0 ...\n",
      " $ Ticket     : Factor w/ 681 levels \"110152\",\"110413\",..: 524 597 670 50 473 276 86 396 345 133 ...\n",
      " $ Fare       : num  7.25 71.28 7.92 53.1 8.05 ...\n",
      " $ Cabin      : Factor w/ 147 levels \"A10\",\"A14\",\"A16\",..: NA 82 NA 56 NA NA 130 NA NA NA ...\n",
      " $ Embarked   : Factor w/ 3 levels \"C\",\"Q\",\"S\": 3 1 3 3 3 2 3 3 3 1 ...\n"
     ]
    }
   ],
   "source": [
    "str(data)"
   ]
  },
  {
   "cell_type": "code",
   "execution_count": 20,
   "metadata": {},
   "outputs": [
    {
     "name": "stderr",
     "output_type": "stream",
     "text": [
      "Warning message:\n",
      "\"package 'Amelia' was built under R version 3.4.3\"Loading required package: Rcpp\n",
      "## \n",
      "## Amelia II: Multiple Imputation\n",
      "## (Version 1.7.4, built: 2015-12-05)\n",
      "## Copyright (C) 2005-2017 James Honaker, Gary King and Matthew Blackwell\n",
      "## Refer to http://gking.harvard.edu/amelia/ for more information\n",
      "## \n"
     ]
    },
    {
     "data": {
      "image/png": "[encoded data removed]",
      "text/plain": [
       "Plot with title \"Missing values vs observed\""
      ]
     },
     "metadata": {},
     "output_type": "display_data"
    }
   ],
   "source": [
    "library(Amelia)\n",
    "missmap(data, main=\"Missing values vs observed\")\n",
    "# kann genutzt werden um eine Übersicht zu erhalten, wie viele Missing Datas vorhanden sind"
   ]
  },
  {
   "cell_type": "markdown",
   "metadata": {},
   "source": [
    "Cabin wird ausgeschlossen, da es zu viele Missing Values hat. Außerdem interessiert uns nicht das Ticket, der Name und die PassengerID, dementsprechend wird der Datensatz angepasst."
   ]
  },
  {
   "cell_type": "code",
   "execution_count": 21,
   "metadata": {
    "collapsed": true
   },
   "outputs": [],
   "source": [
    "data <- subset(data, select=c(2,3,5,6,7,8,10,12))"
   ]
  },
  {
   "cell_type": "code",
   "execution_count": 22,
   "metadata": {
    "collapsed": true
   },
   "outputs": [],
   "source": [
    "data$Age[is.na(data$Age)] <- mean(data$Age, na.rm=T) \n",
    "# Das Alter hat viele Missing Values. Da es aber nicht von der Analyse ausgeschlossen werden soll, wird allen Missing Values\n",
    "# der Mittelwert des Alters übergeben."
   ]
  },
  {
   "cell_type": "code",
   "execution_count": 23,
   "metadata": {
    "collapsed": true
   },
   "outputs": [],
   "source": [
    "data <- data[!is.na(data$Embarked),]\n",
    "rownames(data) <- NULL\n",
    "# Die Zeilen mit Missing Values in Embarked werden gelöscht."
   ]
  },
  {
   "cell_type": "code",
   "execution_count": 24,
   "metadata": {},
   "outputs": [
    {
     "data": {
      "image/png": "[encoded data removed]",
      "text/plain": [
       "Plot with title \"Missing values vs observed\""
      ]
     },
     "metadata": {},
     "output_type": "display_data"
    }
   ],
   "source": [
    "missmap(data, main=\"Missing values vs observed\")"
   ]
  },
  {
   "cell_type": "markdown",
   "metadata": {},
   "source": [
    "Die Daten werden aufgeteilt in Train and Test, mithilfe von Train wird ein Modell erstellt, das dann anhand der Testdaten getestet wird."
   ]
  },
  {
   "cell_type": "code",
   "execution_count": 25,
   "metadata": {
    "collapsed": true
   },
   "outputs": [],
   "source": [
    "train <- data[1:800,]\n",
    "test <- data[801:889,]"
   ]
  },
  {
   "cell_type": "markdown",
   "metadata": {},
   "source": [
    "Das Modell wird aufgestellt:\n",
    "\n",
    "$$\n",
    "ln(\\frac{\\pi(x)}{1-\\pi(x)}) = \\beta_0 + \\beta_1X_{Pclass}+\\beta_2X_{Sexmale}+\\beta_3X_{Age}+ ...+ \\beta_8X_{EmbarkedS}\n",
    "$$"
   ]
  },
  {
   "cell_type": "code",
   "execution_count": 26,
   "metadata": {
    "collapsed": true
   },
   "outputs": [],
   "source": [
    "logit <- glm(Survived ~., family = binomial, data=train)"
   ]
  },
  {
   "cell_type": "code",
   "execution_count": 27,
   "metadata": {},
   "outputs": [
    {
     "data": {
      "text/plain": [
       "\n",
       "Call:\n",
       "glm(formula = Survived ~ ., family = binomial, data = train)\n",
       "\n",
       "Deviance Residuals: \n",
       "    Min       1Q   Median       3Q      Max  \n",
       "-2.6064  -0.5954  -0.4254   0.6220   2.4165  \n",
       "\n",
       "Coefficients:\n",
       "             Estimate Std. Error z value Pr(>|z|)    \n",
       "(Intercept)  5.137627   0.594998   8.635  < 2e-16 ***\n",
       "Pclass      -1.087156   0.151168  -7.192 6.40e-13 ***\n",
       "Sexmale     -2.756819   0.212026 -13.002  < 2e-16 ***\n",
       "Age         -0.037267   0.008195  -4.547 5.43e-06 ***\n",
       "SibSp       -0.292920   0.114642  -2.555   0.0106 *  \n",
       "Parch       -0.116576   0.128127  -0.910   0.3629    \n",
       "Fare         0.001528   0.002353   0.649   0.5160    \n",
       "EmbarkedQ   -0.002656   0.400882  -0.007   0.9947    \n",
       "EmbarkedS   -0.318786   0.252960  -1.260   0.2076    \n",
       "---\n",
       "Signif. codes:  0 '***' 0.001 '**' 0.01 '*' 0.05 '.' 0.1 ' ' 1\n",
       "\n",
       "(Dispersion parameter for binomial family taken to be 1)\n",
       "\n",
       "    Null deviance: 1065.39  on 799  degrees of freedom\n",
       "Residual deviance:  709.39  on 791  degrees of freedom\n",
       "AIC: 727.39\n",
       "\n",
       "Number of Fisher Scoring iterations: 5\n"
      ]
     },
     "metadata": {},
     "output_type": "display_data"
    }
   ],
   "source": [
    "summary(logit)"
   ]
  },
  {
   "cell_type": "markdown",
   "metadata": {},
   "source": [
    "Analyse p-Wert:\n",
    "Parch, Fare und Embarked sind nicht statistisch signifikant.\n",
    "Das Geschlecht hat den kleinsten p-Wert und somit einen starken Zusammenhang mit der Wahrscheinlichkeit zu überleben. Das negative Vorzeichen deutet darauf hin, dass männliche Passagiere eine geringere Wahrscheinlichkeit haben zu überleben.\n",
    "Männlich sein reduziert die Chance um 2,75.\n",
    "Ein Anstieg des Alters um eine Einheit reduziert die Chance um 0,037.\n"
   ]
  },
  {
   "cell_type": "markdown",
   "metadata": {},
   "source": [
    "##### Kommentar FF:\n",
    "\n",
    "Warum sind parch, fare und embarked statistisch nicht signifikant?????\n",
    "\n",
    "Es wäre schön, wenn du öfters dazuschreiben könntest, was du jetzt als nächstest machst und warum, Beispiel bei Anova."
   ]
  },
  {
   "cell_type": "code",
   "execution_count": 28,
   "metadata": {},
   "outputs": [
    {
     "data": {
      "text/html": [
       "<table>\n",
       "<thead><tr><th></th><th scope=col>Df</th><th scope=col>Deviance</th><th scope=col>Resid. Df</th><th scope=col>Resid. Dev</th><th scope=col>Pr(&gt;Chi)</th></tr></thead>\n",
       "<tbody>\n",
       "\t<tr><th scope=row>NULL</th><td>NA          </td><td>         NA </td><td>799         </td><td>1065.3922   </td><td>          NA</td></tr>\n",
       "\t<tr><th scope=row>Pclass</th><td> 1          </td><td> 83.6069449 </td><td>798         </td><td> 981.7853   </td><td>6.036064e-20</td></tr>\n",
       "\t<tr><th scope=row>Sex</th><td> 1          </td><td>240.0135513 </td><td>797         </td><td> 741.7717   </td><td>3.906166e-54</td></tr>\n",
       "\t<tr><th scope=row>Age</th><td> 1          </td><td> 17.4946765 </td><td>796         </td><td> 724.2770   </td><td>2.881133e-05</td></tr>\n",
       "\t<tr><th scope=row>SibSp</th><td> 1          </td><td> 10.8423921 </td><td>795         </td><td> 713.4346   </td><td>9.920249e-04</td></tr>\n",
       "\t<tr><th scope=row>Parch</th><td> 1          </td><td>  0.8630972 </td><td>794         </td><td> 712.5715   </td><td>3.528734e-01</td></tr>\n",
       "\t<tr><th scope=row>Fare</th><td> 1          </td><td>  0.9942053 </td><td>793         </td><td> 711.5773   </td><td>3.187167e-01</td></tr>\n",
       "\t<tr><th scope=row>Embarked</th><td> 2          </td><td>  2.1873120 </td><td>791         </td><td> 709.3900   </td><td>3.349895e-01</td></tr>\n",
       "</tbody>\n",
       "</table>\n"
      ],
      "text/latex": [
       "\\begin{tabular}{r|lllll}\n",
       "  & Df & Deviance & Resid. Df & Resid. Dev & Pr(>Chi)\\\\\n",
       "\\hline\n",
       "\tNULL & NA           &          NA  & 799          & 1065.3922    &           NA\\\\\n",
       "\tPclass &  1           &  83.6069449  & 798          &  981.7853    & 6.036064e-20\\\\\n",
       "\tSex &  1           & 240.0135513  & 797          &  741.7717    & 3.906166e-54\\\\\n",
       "\tAge &  1           &  17.4946765  & 796          &  724.2770    & 2.881133e-05\\\\\n",
       "\tSibSp &  1           &  10.8423921  & 795          &  713.4346    & 9.920249e-04\\\\\n",
       "\tParch &  1           &   0.8630972  & 794          &  712.5715    & 3.528734e-01\\\\\n",
       "\tFare &  1           &   0.9942053  & 793          &  711.5773    & 3.187167e-01\\\\\n",
       "\tEmbarked &  2           &   2.1873120  & 791          &  709.3900    & 3.349895e-01\\\\\n",
       "\\end{tabular}\n"
      ],
      "text/markdown": [
       "\n",
       "| <!--/--> | Df | Deviance | Resid. Df | Resid. Dev | Pr(>Chi) | \n",
       "|---|---|---|---|---|---|---|---|\n",
       "| NULL | NA           |          NA  | 799          | 1065.3922    |           NA | \n",
       "| Pclass |  1           |  83.6069449  | 798          |  981.7853    | 6.036064e-20 | \n",
       "| Sex |  1           | 240.0135513  | 797          |  741.7717    | 3.906166e-54 | \n",
       "| Age |  1           |  17.4946765  | 796          |  724.2770    | 2.881133e-05 | \n",
       "| SibSp |  1           |  10.8423921  | 795          |  713.4346    | 9.920249e-04 | \n",
       "| Parch |  1           |   0.8630972  | 794          |  712.5715    | 3.528734e-01 | \n",
       "| Fare |  1           |   0.9942053  | 793          |  711.5773    | 3.187167e-01 | \n",
       "| Embarked |  2           |   2.1873120  | 791          |  709.3900    | 3.349895e-01 | \n",
       "\n",
       "\n"
      ],
      "text/plain": [
       "         Df Deviance    Resid. Df Resid. Dev Pr(>Chi)    \n",
       "NULL     NA          NA 799       1065.3922            NA\n",
       "Pclass    1  83.6069449 798        981.7853  6.036064e-20\n",
       "Sex       1 240.0135513 797        741.7717  3.906166e-54\n",
       "Age       1  17.4946765 796        724.2770  2.881133e-05\n",
       "SibSp     1  10.8423921 795        713.4346  9.920249e-04\n",
       "Parch     1   0.8630972 794        712.5715  3.528734e-01\n",
       "Fare      1   0.9942053 793        711.5773  3.187167e-01\n",
       "Embarked  2   2.1873120 791        709.3900  3.349895e-01"
      ]
     },
     "metadata": {},
     "output_type": "display_data"
    }
   ],
   "source": [
    "anova(logit, test =\"Chisq\")"
   ]
  },
  {
   "cell_type": "markdown",
   "metadata": {},
   "source": [
    "Null-Residual-Deviance: 1065, je höher der Wert, desto besser.\n",
    "p-Wert zeigt wieder, dass Parch, Fare und Embarked keinen Einfluss auf das Modell haben. (hoher Wert zeigt, dass Ergebnis ohne diese Werte dasselbe wäre)"
   ]
  },
  {
   "cell_type": "markdown",
   "metadata": {},
   "source": [
    "Um die Güte der Modellanpassung zu beurteilen, wird der McFadden $R^2$ getestet"
   ]
  },
  {
   "cell_type": "code",
   "execution_count": 29,
   "metadata": {},
   "outputs": [
    {
     "name": "stderr",
     "output_type": "stream",
     "text": [
      "Warning message:\n",
      "\"package 'pscl' was built under R version 3.4.3\"Classes and Methods for R developed in the\n",
      "Political Science Computational Laboratory\n",
      "Department of Political Science\n",
      "Stanford University\n",
      "Simon Jackman\n",
      "hurdle and zeroinfl functions by Achim Zeileis\n"
     ]
    },
    {
     "data": {
      "text/html": [
       "<dl class=dl-horizontal>\n",
       "\t<dt>llh</dt>\n",
       "\t\t<dd>-354.695011140774</dd>\n",
       "\t<dt>llhNull</dt>\n",
       "\t\t<dd>-532.696100822026</dd>\n",
       "\t<dt>G2</dt>\n",
       "\t\t<dd>356.002179362505</dd>\n",
       "\t<dt>McFadden</dt>\n",
       "\t\t<dd>0.334151290776432</dd>\n",
       "\t<dt>r2ML</dt>\n",
       "\t\t<dd>0.359177469700802</dd>\n",
       "\t<dt>r2CU</dt>\n",
       "\t\t<dd>0.488024406926723</dd>\n",
       "</dl>\n"
      ],
      "text/latex": [
       "\\begin{description*}\n",
       "\\item[llh] -354.695011140774\n",
       "\\item[llhNull] -532.696100822026\n",
       "\\item[G2] 356.002179362505\n",
       "\\item[McFadden] 0.334151290776432\n",
       "\\item[r2ML] 0.359177469700802\n",
       "\\item[r2CU] 0.488024406926723\n",
       "\\end{description*}\n"
      ],
      "text/markdown": [
       "llh\n",
       ":   -354.695011140774llhNull\n",
       ":   -532.696100822026G2\n",
       ":   356.002179362505McFadden\n",
       ":   0.334151290776432r2ML\n",
       ":   0.359177469700802r2CU\n",
       ":   0.488024406926723\n",
       "\n"
      ],
      "text/plain": [
       "         llh      llhNull           G2     McFadden         r2ML         r2CU \n",
       "-354.6950111 -532.6961008  356.0021794    0.3341513    0.3591775    0.4880244 "
      ]
     },
     "metadata": {},
     "output_type": "display_data"
    }
   ],
   "source": [
    "library(pscl)\n",
    "pR2(logit)"
   ]
  },
  {
   "cell_type": "markdown",
   "metadata": {},
   "source": [
    "McFadden $R^2$: 0,33\n",
    "\n",
    "33% der Varianz werden durch das Modell erklärt."
   ]
  },
  {
   "cell_type": "markdown",
   "metadata": {},
   "source": [
    "Als nächstes wird bewertet, wie gut das Modell die Wahrscheinlichkeit für das Überleben vorhersagen kann. "
   ]
  },
  {
   "cell_type": "code",
   "execution_count": 30,
   "metadata": {},
   "outputs": [
    {
     "name": "stdout",
     "output_type": "stream",
     "text": [
      "[1] \"Genauigkeit: 0.842696629213483\"\n"
     ]
    }
   ],
   "source": [
    "fitted.results <- predict(logit, newdata=subset(test, select=c(2,3,4,5,6,7,8)), type='response')\n",
    "# durch response werden Wahrscheinlichkeiten der From P(y=1|X) ausgegeben. \n",
    "fitted.results <- ifelse(fitted.results > 0.5,1,0)\n",
    "# wenn P(Y=1|X) > 0,5 wird y=1, ansonsten 0.\n",
    "error <- mean(fitted.results != test$Survived)\n",
    "print(paste('Genauigkeit:', 1-error))"
   ]
  },
  {
   "cell_type": "markdown",
   "metadata": {},
   "source": [
    "Genauigkeit von 0,84 ist ein ziemlich gutes Ergbenis. (Vermutlich auch durch den gesplitteten Datensatz, mit seperaten Daten wäre die Vorhersage eventuell nicht so genau)"
   ]
  },
  {
   "cell_type": "markdown",
   "metadata": {},
   "source": [
    "Die ROC-Kurve wird ermittelt und die Fläche under der Kurve ermittelt(AUC).\n",
    "Die ROC Kurve plottet die wahr positiven(tpr) gegen die falsch positive (fpr)\n",
    "Für ein gutes Ergebnis bekommt man ein AUC näher an 1 als 0,5."
   ]
  },
  {
   "cell_type": "code",
   "execution_count": 31,
   "metadata": {},
   "outputs": [
    {
     "name": "stderr",
     "output_type": "stream",
     "text": [
      "Warning message:\n",
      "\"package 'ROCR' was built under R version 3.4.3\"Loading required package: gplots\n",
      "Warning message:\n",
      "\"package 'gplots' was built under R version 3.4.3\"\n",
      "Attaching package: 'gplots'\n",
      "\n",
      "The following object is masked from 'package:stats':\n",
      "\n",
      "    lowess\n",
      "\n"
     ]
    },
    {
     "data": {
      "image/png": "[encoded data removed]",
      "text/plain": [
       "plot without title"
      ]
     },
     "metadata": {},
     "output_type": "display_data"
    }
   ],
   "source": [
    "library(ROCR)\n",
    "p <- predict(logit, newdata=subset(test, select=c(2,3,4,5,6,7,8)), type = \"response\")\n",
    "pr <- prediction(p, test$Survived)\n",
    "prf <- performance(pr, measure = \"tpr\", x.measure = \"fpr\")\n",
    "plot(prf)\n",
    "abline(0,1)\n"
   ]
  },
  {
   "cell_type": "code",
   "execution_count": 32,
   "metadata": {},
   "outputs": [
    {
     "name": "stdout",
     "output_type": "stream",
     "text": [
      "Formal class 'performance' [package \"ROCR\"] with 6 slots\n",
      "  ..@ x.name      : chr \"None\"\n",
      "  ..@ y.name      : chr \"Area under the ROC curve\"\n",
      "  ..@ alpha.name  : chr \"none\"\n",
      "  ..@ x.values    : list()\n",
      "  ..@ y.values    :List of 1\n",
      "  .. ..$ : num 0.865\n",
      "  ..@ alpha.values: list()\n"
     ]
    }
   ],
   "source": [
    "auc <- performance(pr, measure = \"auc\")\n",
    "str(auc)"
   ]
  },
  {
   "cell_type": "code",
   "execution_count": 33,
   "metadata": {},
   "outputs": [
    {
     "data": {
      "text/html": [
       "0.864718614718615"
      ],
      "text/latex": [
       "0.864718614718615"
      ],
      "text/markdown": [
       "0.864718614718615"
      ],
      "text/plain": [
       "[1] 0.8647186"
      ]
     },
     "metadata": {},
     "output_type": "display_data"
    }
   ],
   "source": [
    "auc <- auc@y.values[[1]]\n",
    "auc"
   ]
  },
  {
   "cell_type": "markdown",
   "metadata": {},
   "source": [
    "##### Fazit Review FF:\n",
    "\n",
    "Theorie sehr schön. Die wenigen Rechtschreibfehler, die ich gefunden habe, habe ich dir gleich korrigiert. Ansonsten sehr anschauliche Darstellung des Themas. \n",
    "\n",
    "Die Beispiele sind gut gewählt. Sie zeigen gut, wie man die Regression in R wunderbar darstellen kann.\n",
    "Wie oben schon beschrieben, fände ich es gut, wenn du bei der Anwendung, die erstellten Graphiken interpretieren würdest, und kurz erläutern könntest, was man da jetzt genau sieht.\n",
    "\n",
    "Übungsaufgaben passen zum Thema. Vorbereitung von Datensätzen, Modelle und Interpretationsaufgaben sind gegeben. Super!\n",
    "\n",
    "Zusammengefasst eine sehr gute Ausarbeitung des Themas :)"
   ]
  },
  {
   "cell_type": "markdown",
   "metadata": {},
   "source": [
    "## Quellen"
   ]
  },
  {
   "cell_type": "markdown",
   "metadata": {
    "collapsed": true
   },
   "source": [
    "Rainer Schlittgen: \"Regressionsanalysen mit R\", Oldenbourg Verlag, 2013\n",
    "\n",
    "https://datascienceplus.com/perform-logistic-regression-in-r/\n",
    "\n",
    "https://de.wikipedia.org/wiki/Logistische_Regression\n",
    "\n",
    "https://de.wikipedia.org/wiki/Einfache_lineare_Regression\n",
    "\n",
    "https://de.wikipedia.org/wiki/Multiple_lineare_Regression"
   ]
  }
 ],
 "metadata": {
  "kernelspec": {
   "display_name": "R",
   "language": "R",
   "name": "ir"
  },
  "language_info": {
   "codemirror_mode": "r",
   "file_extension": ".r",
   "mimetype": "text/x-r-source",
   "name": "R",
   "pygments_lexer": "r",
   "version": "3.4.2"
  }
 },
 "nbformat": 4,
 "nbformat_minor": 2
}
