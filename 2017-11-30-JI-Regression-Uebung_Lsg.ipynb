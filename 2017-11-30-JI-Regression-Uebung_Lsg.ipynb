{
 "cells": [
  {
   "cell_type": "markdown",
   "metadata": {},
   "source": [
    "# Übungsaufgaben\n",
    "\n",
    "## Lineare Regression\n",
    "\n",
    "Der Datensatz \"inffb.dat\" enthält Daten zu Informatik-Fachbereichen an Universitäten, darunter z.B. Note, Dozentenverhalten, Ausstattung..."
   ]
  },
  {
   "cell_type": "markdown",
   "metadata": {},
   "source": [
    "Lesen Sie den Datensatz ein und verschaffen sich eine Übersicht über die Struktur."
   ]
  },
  {
   "cell_type": "code",
   "execution_count": 58,
   "metadata": {},
   "outputs": [
    {
     "name": "stdout",
     "output_type": "stream",
     "text": [
      "'data.frame':\t39 obs. of  8 variables:\n",
      " $ NOTE    : num  1.73 1.87 1.91 1.94 2.02 2.06 2.06 2.09 2.1 2.12 ...\n",
      " $ DOZENT  : num  2 1.8 2 2 2 2.3 2.2 2.1 2.3 2.2 ...\n",
      " $ VOLL    : num  1.6 1.7 1.3 1.5 1.4 1.4 1.5 1.4 1.5 1.5 ...\n",
      " $ INHALT  : num  1.9 2.3 2.5 2.3 2.5 2.3 2.4 2.8 2.4 2.7 ...\n",
      " $ AUSSTAT : num  1.7 1.8 1.9 2 2.2 2.2 2.1 2.2 2.2 2.2 ...\n",
      " $ DAUER   : num  10.5 11.5 11.2 12.9 11.8 10.9 13.7 11.8 14.5 NA ...\n",
      " $ STUDPROF: int  16 26 14 NA 21 35 19 NA 26 9 ...\n",
      " $ WANDER  : int  -43 -35 -57 NA -58 -53 -44 -61 -53 NA ...\n"
     ]
    }
   ],
   "source": [
    "inf <- read.table(\"data/inffb.dat\", na.strings=\".\", header=T)\n",
    "str(inf)"
   ]
  },
  {
   "cell_type": "markdown",
   "metadata": {},
   "source": [
    "Eliminieren Sie die Missing Values."
   ]
  },
  {
   "cell_type": "code",
   "execution_count": 59,
   "metadata": {},
   "outputs": [
    {
     "name": "stdout",
     "output_type": "stream",
     "text": [
      "'data.frame':\t32 obs. of  8 variables:\n",
      " $ NOTE    : num  1.73 1.87 1.91 2.02 2.06 2.06 2.1 2.14 2.15 2.19 ...\n",
      " $ DOZENT  : num  2 1.8 2 2 2.3 2.2 2.3 2.5 2.3 2.2 ...\n",
      " $ VOLL    : num  1.6 1.7 1.3 1.4 1.4 1.5 1.5 1.5 1.7 1.7 ...\n",
      " $ INHALT  : num  1.9 2.3 2.5 2.5 2.3 2.4 2.4 2.5 2.7 2.8 ...\n",
      " $ AUSSTAT : num  1.7 1.8 1.9 2.2 2.2 2.1 2.2 2.1 2 2.2 ...\n",
      " $ DAUER   : num  10.5 11.5 11.2 11.8 10.9 13.7 14.5 10.5 13.9 12.5 ...\n",
      " $ STUDPROF: int  16 26 14 21 35 19 26 22 36 22 ...\n",
      " $ WANDER  : int  -43 -35 -57 -58 -53 -44 -53 -18 -14 -12 ...\n",
      " - attr(*, \"na.action\")=Class 'omit'  Named int [1:7] 4 8 10 14 28 36 39\n",
      "  .. ..- attr(*, \"names\")= chr [1:7] \"4\" \"8\" \"10\" \"14\" ...\n"
     ]
    }
   ],
   "source": [
    "inf <- na.omit(inf)\n",
    "str(inf)"
   ]
  },
  {
   "cell_type": "markdown",
   "metadata": {},
   "source": [
    "Ermitteln Sie die Regressionskoeffizienten und treffen eine Aussage bzgl. der Einflussrichtung."
   ]
  },
  {
   "cell_type": "code",
   "execution_count": 60,
   "metadata": {},
   "outputs": [
    {
     "name": "stderr",
     "output_type": "stream",
     "text": [
      "The following objects are masked from inf (pos = 3):\n",
      "\n",
      "    AUSSTAT, DAUER, DOZENT, INHALT, NOTE, STUDPROF, VOLL, WANDER\n",
      "\n",
      "The following objects are masked from dat2 (pos = 4):\n",
      "\n",
      "    AUSSTAT, DAUER, DOZENT, INHALT, NOTE, STUDPROF, VOLL, WANDER\n",
      "\n",
      "The following objects are masked from dat2 (pos = 5):\n",
      "\n",
      "    AUSSTAT, DAUER, DOZENT, INHALT, NOTE, STUDPROF, VOLL, WANDER\n",
      "\n"
     ]
    },
    {
     "data": {
      "text/plain": [
       "\n",
       "Call:\n",
       "lm(formula = NOTE ~ AUSSTAT)\n",
       "\n",
       "Coefficients:\n",
       "(Intercept)      AUSSTAT  \n",
       "     0.4867       0.7733  \n"
      ]
     },
     "metadata": {},
     "output_type": "display_data"
    }
   ],
   "source": [
    "attach(inf)\n",
    "regcof <- lm(NOTE~AUSSTAT)\n",
    "regcof"
   ]
  },
  {
   "cell_type": "markdown",
   "metadata": {},
   "source": [
    "Die Ausstattung hat einen positiven Einfluss auf die Note."
   ]
  },
  {
   "cell_type": "markdown",
   "metadata": {},
   "source": [
    "Beurteilen Sie die Signifikanz der Regressionskoeffizienten zu einem Signifikanzniveau von 5%.\n",
    "Wie beurteilen Sie das Bestimmtheitsmaß?\n"
   ]
  },
  {
   "cell_type": "code",
   "execution_count": 61,
   "metadata": {},
   "outputs": [
    {
     "data": {
      "text/plain": [
       "\n",
       "Call:\n",
       "lm(formula = NOTE ~ AUSSTAT)\n",
       "\n",
       "Residuals:\n",
       "     Min       1Q   Median       3Q      Max \n",
       "-0.18648 -0.08334 -0.01985  0.11530  0.20480 \n",
       "\n",
       "Coefficients:\n",
       "            Estimate Std. Error t value Pr(>|t|)    \n",
       "(Intercept)  0.48669    0.14928    3.26  0.00277 ** \n",
       "AUSSTAT      0.77327    0.06122   12.63 1.53e-13 ***\n",
       "---\n",
       "Signif. codes:  0 '***' 0.001 '**' 0.01 '*' 0.05 '.' 0.1 ' ' 1\n",
       "\n",
       "Residual standard error: 0.123 on 30 degrees of freedom\n",
       "Multiple R-squared:  0.8417,\tAdjusted R-squared:  0.8365 \n",
       "F-statistic: 159.5 on 1 and 30 DF,  p-value: 1.534e-13\n"
      ]
     },
     "metadata": {},
     "output_type": "display_data"
    }
   ],
   "source": [
    "summary(regcof)"
   ]
  },
  {
   "cell_type": "markdown",
   "metadata": {},
   "source": [
    "p < 0,05, d.h. der Regressionskoeffizient ist statistisch signifikant.\n",
    "$R^2$ = 0,8417. Das ist ein solider Wert, knapp 85% der Varianz sind durch das Modell erklärbar."
   ]
  },
  {
   "cell_type": "markdown",
   "metadata": {},
   "source": [
    "Zeichnen Sie ein Scatterplot mit der ermittelten Regressionsgerade."
   ]
  },
  {
   "cell_type": "code",
   "execution_count": 62,
   "metadata": {},
   "outputs": [
    {
     "data": {
      "image/png": "[encoded data removed]",
      "text/plain": [
       "Plot with title \"Plot\""
      ]
     },
     "metadata": {},
     "output_type": "display_data"
    }
   ],
   "source": [
    "plot(AUSSTAT, NOTE, pch=20, main=\"Plot\")\n",
    "abline(regcof, col=\"BLUE\")"
   ]
  },
  {
   "cell_type": "markdown",
   "metadata": {},
   "source": [
    "Ermitteln Sie das Konfidenz- und Prognoseintervall und integrieren Sie es in das Plot. Treffen Sie eine Vorhersage für die Noten bei AUSSTAT = 1.8, 4.0, 3.2."
   ]
  },
  {
   "cell_type": "code",
   "execution_count": 63,
   "metadata": {},
   "outputs": [
    {
     "name": "stderr",
     "output_type": "stream",
     "text": [
      "Warning message in predict.lm(regcof, interval = \"prediction\"):\n",
      "\"predictions on current data refer to _future_ responses\n",
      "\""
     ]
    },
    {
     "data": {
      "text/html": [
       "<dl class=dl-horizontal>\n",
       "\t<dt>1</dt>\n",
       "\t\t<dd>1.87856257744734</dd>\n",
       "\t<dt>2</dt>\n",
       "\t\t<dd>3.57974597273854</dd>\n",
       "\t<dt>3</dt>\n",
       "\t\t<dd>2.96113382899628</dd>\n",
       "</dl>\n"
      ],
      "text/latex": [
       "\\begin{description*}\n",
       "\\item[1] 1.87856257744734\n",
       "\\item[2] 3.57974597273854\n",
       "\\item[3] 2.96113382899628\n",
       "\\end{description*}\n"
      ],
      "text/markdown": [
       "1\n",
       ":   1.878562577447342\n",
       ":   3.579745972738543\n",
       ":   2.96113382899628\n",
       "\n"
      ],
      "text/plain": [
       "       1        2        3 \n",
       "1.878563 3.579746 2.961134 "
      ]
     },
     "metadata": {},
     "output_type": "display_data"
    },
    {
     "data": {
      "image/png": "[encoded data removed]",
      "text/plain": [
       "Plot with title \"Plot\""
      ]
     },
     "metadata": {},
     "output_type": "display_data"
    }
   ],
   "source": [
    "plot(AUSSTAT,NOTE, pch=20, main = \"Plot\")\n",
    "abline(regcof, col ='BLUE')\n",
    "p <- predict.lm(regcof, interval = \"confidence\") # Konfidenzintervall \n",
    "o <- order(AUSSTAT)\n",
    "lines(AUSSTAT[o],p[o,2])\n",
    "lines(AUSSTAT[o],p[o,3])\n",
    "p <- predict.lm(regcof, interval = \"prediction\") # Prognoseintervall\n",
    "lines(AUSSTAT[o],p[o,2], col = \"RED\", lty = 2) # lty=2 macht eine gestrichelte Linie\n",
    "lines(AUSSTAT[o],p[o,3], col = \"RED\", lty = 2)\n",
    "predict.lm(regcof, newdata=data.frame(AUSSTAT=c(1.8, 4.0, 3.2))) # , interval = \"confidence\")"
   ]
  },
  {
   "cell_type": "markdown",
   "metadata": {},
   "source": [
    "Führen Sie eine Residuenanalyse durch und interpretieren das Ergebnis."
   ]
  },
  {
   "cell_type": "code",
   "execution_count": 64,
   "metadata": {},
   "outputs": [
    {
     "data": {
      "image/png": "[encoded data removed]",
      "text/plain": [
       "Plot with title \"Normal Q-Q Plot\""
      ]
     },
     "metadata": {},
     "output_type": "display_data"
    }
   ],
   "source": [
    "m <- model.matrix(regcof)\n",
    "im <- solve(t(m)%*%m)\n",
    "H <- m%*%im%*%t(m)\n",
    "s2res <- 1-diag(H)\n",
    "e <- sort(regcof$residuals/sqrt(s2res))\n",
    "qqnorm(e, pch=20)\n",
    "abline(mean(e[-c(1,length(e))]), sd(e[-c(1,length(e))]))"
   ]
  },
  {
   "cell_type": "markdown",
   "metadata": {},
   "source": [
    "Keine starken Aussreißer, das Modell ist gut."
   ]
  },
  {
   "cell_type": "markdown",
   "metadata": {},
   "source": [
    "## Logistische Regression\n"
   ]
  },
  {
   "cell_type": "markdown",
   "metadata": {},
   "source": [
    "Lesen Sie den Datensatz \"lohn.dat\" ein. Verschaffen Sie sich einen Überblick über den Datensatz.\n",
    "Ermitteln Sie, ob Lohn, Alter und Geschlecht (0=w, 1=m) einen Einfluss auf die Chance haben, Mitglied in einer Gewerkschaft(0=nein, 1=ja) zu sein.\n",
    "Stellen Sie das Logit-Modell auf.\n",
    "Interpretieren Sie das Ergebnis."
   ]
  },
  {
   "cell_type": "code",
   "execution_count": 65,
   "metadata": {},
   "outputs": [
    {
     "name": "stdout",
     "output_type": "stream",
     "text": [
      "'data.frame':\t534 obs. of  11 variables:\n",
      " $ Ausbildung   : int  8 9 12 12 12 13 10 12 16 12 ...\n",
      " $ Süd          : int  0 0 0 0 0 0 1 0 0 0 ...\n",
      " $ Geschlecht   : int  1 1 0 0 0 0 0 0 0 0 ...\n",
      " $ Erfahrung    : int  21 42 1 4 17 9 27 9 11 9 ...\n",
      " $ Gewerkschaft : int  0 0 0 0 0 1 0 0 0 0 ...\n",
      " $ Lohn         : num  5.1 4.95 6.67 4 7.5 ...\n",
      " $ Alter        : int  35 57 19 22 35 28 43 27 33 27 ...\n",
      " $ Rasse        : int  2 3 3 3 3 3 3 3 3 3 ...\n",
      " $ Beschäftigung: int  6 6 6 6 6 6 6 6 6 6 ...\n",
      " $ Sektor       : int  1 1 1 0 0 0 0 0 1 0 ...\n",
      " $ Status       : int  1 1 0 0 1 0 0 0 1 0 ...\n"
     ]
    }
   ],
   "source": [
    "dat <- read.table(\"data/lohn.dat\", header=T)\n",
    "str(dat)"
   ]
  },
  {
   "cell_type": "code",
   "execution_count": 66,
   "metadata": {},
   "outputs": [
    {
     "data": {
      "text/plain": [
       "\n",
       "Call:\n",
       "glm(formula = Gewerkschaft ~ Lohn + Alter + Geschlecht, family = binomial, \n",
       "    data = dat)\n",
       "\n",
       "Deviance Residuals: \n",
       "    Min       1Q   Median       3Q      Max  \n",
       "-1.2167  -0.6663  -0.5288  -0.3878   2.2766  \n",
       "\n",
       "Coefficients:\n",
       "             Estimate Std. Error z value Pr(>|z|)    \n",
       "(Intercept) -2.666635   0.434581  -6.136 8.46e-10 ***\n",
       "Lohn         0.051156   0.020826   2.456  0.01404 *  \n",
       "Alter        0.025702   0.009894   2.598  0.00938 ** \n",
       "Geschlecht  -0.822069   0.252882  -3.251  0.00115 ** \n",
       "---\n",
       "Signif. codes:  0 '***' 0.001 '**' 0.01 '*' 0.05 '.' 0.1 ' ' 1\n",
       "\n",
       "(Dispersion parameter for binomial family taken to be 1)\n",
       "\n",
       "    Null deviance: 503.08  on 533  degrees of freedom\n",
       "Residual deviance: 474.34  on 530  degrees of freedom\n",
       "AIC: 482.34\n",
       "\n",
       "Number of Fisher Scoring iterations: 4\n"
      ]
     },
     "metadata": {},
     "output_type": "display_data"
    }
   ],
   "source": [
    "logit <- glm(Gewerkschaft ~ Lohn + Alter + Geschlecht, family = binomial, data=dat)\n",
    "summary(logit)"
   ]
  },
  {
   "cell_type": "markdown",
   "metadata": {},
   "source": [
    "Alle 3 Regressionskoeffizienten sind statistisch signifikant.\n",
    "Eine Erhöhung um eine Einheit Lohn erhöht die Chance Mitglied in einer Gewerktschaft zu sein um 0,05.\n",
    "Eine Erhöhung des Alters um eine Einheit erhöht die Chance Mitglied in einer Gewerktschaft zu sein um 0,03.\n",
    "Das männliche Geschlecht verringert die Chance Mitglied in einer Gewerkschaft zu sein um 0,8."
   ]
  },
  {
   "cell_type": "markdown",
   "metadata": {},
   "source": [
    "Überprüfen und interpretieren Sie das Bestimmtheitsmaß."
   ]
  },
  {
   "cell_type": "code",
   "execution_count": 67,
   "metadata": {},
   "outputs": [
    {
     "data": {
      "text/html": [
       "<dl class=dl-horizontal>\n",
       "\t<dt>llh</dt>\n",
       "\t\t<dd>-237.167864514293</dd>\n",
       "\t<dt>llhNull</dt>\n",
       "\t\t<dd>-251.542068878948</dd>\n",
       "\t<dt>G2</dt>\n",
       "\t\t<dd>28.74840872931</dd>\n",
       "\t<dt>McFadden</dt>\n",
       "\t\t<dd>0.0571443354533767</dd>\n",
       "\t<dt>r2ML</dt>\n",
       "\t\t<dd>0.0524124747930035</dd>\n",
       "\t<dt>r2CU</dt>\n",
       "\t\t<dd>0.0858948258405534</dd>\n",
       "</dl>\n"
      ],
      "text/latex": [
       "\\begin{description*}\n",
       "\\item[llh] -237.167864514293\n",
       "\\item[llhNull] -251.542068878948\n",
       "\\item[G2] 28.74840872931\n",
       "\\item[McFadden] 0.0571443354533767\n",
       "\\item[r2ML] 0.0524124747930035\n",
       "\\item[r2CU] 0.0858948258405534\n",
       "\\end{description*}\n"
      ],
      "text/markdown": [
       "llh\n",
       ":   -237.167864514293llhNull\n",
       ":   -251.542068878948G2\n",
       ":   28.74840872931McFadden\n",
       ":   0.0571443354533767r2ML\n",
       ":   0.0524124747930035r2CU\n",
       ":   0.0858948258405534\n",
       "\n"
      ],
      "text/plain": [
       "          llh       llhNull            G2      McFadden          r2ML \n",
       "-237.16786451 -251.54206888   28.74840873    0.05714434    0.05241247 \n",
       "         r2CU \n",
       "   0.08589483 "
      ]
     },
     "metadata": {},
     "output_type": "display_data"
    }
   ],
   "source": [
    "library(pscl)\n",
    "pR2(logit)"
   ]
  },
  {
   "cell_type": "markdown",
   "metadata": {},
   "source": [
    "Sehr niedrig, Modell ist nicht adäquat."
   ]
  },
  {
   "cell_type": "markdown",
   "metadata": {},
   "source": [
    "Überprüfen Sie, ob der Lohn einen Einfluss auf das Geschlecht hat."
   ]
  },
  {
   "cell_type": "code",
   "execution_count": 68,
   "metadata": {},
   "outputs": [
    {
     "data": {
      "text/plain": [
       "\n",
       "Call:\n",
       "glm(formula = Geschlecht ~ Lohn, family = binomial, data = dat)\n",
       "\n",
       "Deviance Residuals: \n",
       "    Min       1Q   Median       3Q      Max  \n",
       "-1.4165  -1.1203  -0.7409   1.1483   2.6245  \n",
       "\n",
       "Coefficients:\n",
       "            Estimate Std. Error z value Pr(>|z|)    \n",
       "(Intercept)  0.63748    0.19130   3.332 0.000861 ***\n",
       "Lohn        -0.09099    0.01978  -4.599 4.24e-06 ***\n",
       "---\n",
       "Signif. codes:  0 '***' 0.001 '**' 0.01 '*' 0.05 '.' 0.1 ' ' 1\n",
       "\n",
       "(Dispersion parameter for binomial family taken to be 1)\n",
       "\n",
       "    Null deviance: 736.65  on 533  degrees of freedom\n",
       "Residual deviance: 712.50  on 532  degrees of freedom\n",
       "AIC: 716.5\n",
       "\n",
       "Number of Fisher Scoring iterations: 4\n"
      ]
     },
     "metadata": {},
     "output_type": "display_data"
    }
   ],
   "source": [
    "logit <- glm(Geschlecht ~ Lohn, family=binomial, data=dat)\n",
    "summary(logit)"
   ]
  },
  {
   "cell_type": "markdown",
   "metadata": {},
   "source": [
    "Regressionskoeffizient ist statistisch signifikant.\n",
    "Eine Erhöhung des Lohns um eine Einheit verringert die Chance männlich zu sein um 0,09."
   ]
  },
  {
   "cell_type": "markdown",
   "metadata": {},
   "source": [
    "Erstellen Sie einen Datensatz lohn.Modell, der Daten von 5-10 in 0,15 Schritten enthält."
   ]
  },
  {
   "cell_type": "code",
   "execution_count": 69,
   "metadata": {},
   "outputs": [
    {
     "data": {
      "text/html": [
       "<table>\n",
       "<thead><tr><th scope=col>Lohn</th></tr></thead>\n",
       "<tbody>\n",
       "\t<tr><td>5.00</td></tr>\n",
       "\t<tr><td>5.15</td></tr>\n",
       "\t<tr><td>5.30</td></tr>\n",
       "\t<tr><td>5.45</td></tr>\n",
       "\t<tr><td>5.60</td></tr>\n",
       "\t<tr><td>5.75</td></tr>\n",
       "</tbody>\n",
       "</table>\n"
      ],
      "text/latex": [
       "\\begin{tabular}{r|l}\n",
       " Lohn\\\\\n",
       "\\hline\n",
       "\t 5.00\\\\\n",
       "\t 5.15\\\\\n",
       "\t 5.30\\\\\n",
       "\t 5.45\\\\\n",
       "\t 5.60\\\\\n",
       "\t 5.75\\\\\n",
       "\\end{tabular}\n"
      ],
      "text/markdown": [
       "\n",
       "Lohn | \n",
       "|---|---|---|---|---|---|\n",
       "| 5.00 | \n",
       "| 5.15 | \n",
       "| 5.30 | \n",
       "| 5.45 | \n",
       "| 5.60 | \n",
       "| 5.75 | \n",
       "\n",
       "\n"
      ],
      "text/plain": [
       "  Lohn\n",
       "1 5.00\n",
       "2 5.15\n",
       "3 5.30\n",
       "4 5.45\n",
       "5 5.60\n",
       "6 5.75"
      ]
     },
     "metadata": {},
     "output_type": "display_data"
    }
   ],
   "source": [
    "l.min = 5  # Grad Fahrenheit \n",
    "l.max = 10  # Grad Fahrenheit\n",
    "# Temperaturfolge von T.min bis T.max bilden:\n",
    "lohn.X <- seq(l.min, l.max, by=0.15)\n",
    "# Dataframe für das Modell bilden:\n",
    "lohn.Modell <- data.frame(Lohn = lohn.X)\n",
    "head(lohn.Modell) # Die ersten Einträge des Datensatzes"
   ]
  },
  {
   "cell_type": "markdown",
   "metadata": {},
   "source": [
    "Treffen Sie anhand des Datensatzes eine Aussage über die Chance, männlich zu sein."
   ]
  },
  {
   "cell_type": "code",
   "execution_count": 70,
   "metadata": {},
   "outputs": [
    {
     "data": {
      "text/html": [
       "<dl class=dl-horizontal>\n",
       "\t<dt>1</dt>\n",
       "\t\t<dd>0.545509162500388</dd>\n",
       "\t<dt>2</dt>\n",
       "\t\t<dd>0.542123378058714</dd>\n",
       "\t<dt>3</dt>\n",
       "\t\t<dd>0.538733698463911</dd>\n",
       "\t<dt>4</dt>\n",
       "\t\t<dd>0.535340433205422</dd>\n",
       "\t<dt>5</dt>\n",
       "\t\t<dd>0.531943893096323</dd>\n",
       "\t<dt>6</dt>\n",
       "\t\t<dd>0.528544390160427</dd>\n",
       "\t<dt>7</dt>\n",
       "\t\t<dd>0.525142237518436</dd>\n",
       "\t<dt>8</dt>\n",
       "\t\t<dd>0.521737749273242</dd>\n",
       "\t<dt>9</dt>\n",
       "\t\t<dd>0.518331240394442</dd>\n",
       "\t<dt>10</dt>\n",
       "\t\t<dd>0.514923026602185</dd>\n",
       "\t<dt>11</dt>\n",
       "\t\t<dd>0.511513424250416</dd>\n",
       "\t<dt>12</dt>\n",
       "\t\t<dd>0.508102750209624</dd>\n",
       "\t<dt>13</dt>\n",
       "\t\t<dd>0.504691321749185</dd>\n",
       "\t<dt>14</dt>\n",
       "\t\t<dd>0.501279456419382</dd>\n",
       "\t<dt>15</dt>\n",
       "\t\t<dd>0.497867471933211</dd>\n",
       "\t<dt>16</dt>\n",
       "\t\t<dd>0.494455686048052</dd>\n",
       "\t<dt>17</dt>\n",
       "\t\t<dd>0.491044416447311</dd>\n",
       "\t<dt>18</dt>\n",
       "\t\t<dd>0.487633980622112</dd>\n",
       "\t<dt>19</dt>\n",
       "\t\t<dd>0.484224695753148</dd>\n",
       "\t<dt>20</dt>\n",
       "\t\t<dd>0.480816878592779</dd>\n",
       "\t<dt>21</dt>\n",
       "\t\t<dd>0.477410845347459</dd>\n",
       "\t<dt>22</dt>\n",
       "\t\t<dd>0.474006911560606</dd>\n",
       "\t<dt>23</dt>\n",
       "\t\t<dd>0.470605391995987</dd>\n",
       "\t<dt>24</dt>\n",
       "\t\t<dd>0.467206600521719</dd>\n",
       "\t<dt>25</dt>\n",
       "\t\t<dd>0.463810849994979</dd>\n",
       "\t<dt>26</dt>\n",
       "\t\t<dd>0.460418452147505</dd>\n",
       "\t<dt>27</dt>\n",
       "\t\t<dd>0.457029717471977</dd>\n",
       "\t<dt>28</dt>\n",
       "\t\t<dd>0.453644955109378</dd>\n",
       "\t<dt>29</dt>\n",
       "\t\t<dd>0.450264472737398</dd>\n",
       "\t<dt>30</dt>\n",
       "\t\t<dd>0.446888576459994</dd>\n",
       "\t<dt>31</dt>\n",
       "\t\t<dd>0.443517570698159</dd>\n",
       "\t<dt>32</dt>\n",
       "\t\t<dd>0.440151758082004</dd>\n",
       "\t<dt>33</dt>\n",
       "\t\t<dd>0.436791439344227</dd>\n",
       "\t<dt>34</dt>\n",
       "\t\t<dd>0.43343691321504</dd>\n",
       "</dl>\n"
      ],
      "text/latex": [
       "\\begin{description*}\n",
       "\\item[1] 0.545509162500388\n",
       "\\item[2] 0.542123378058714\n",
       "\\item[3] 0.538733698463911\n",
       "\\item[4] 0.535340433205422\n",
       "\\item[5] 0.531943893096323\n",
       "\\item[6] 0.528544390160427\n",
       "\\item[7] 0.525142237518436\n",
       "\\item[8] 0.521737749273242\n",
       "\\item[9] 0.518331240394442\n",
       "\\item[10] 0.514923026602185\n",
       "\\item[11] 0.511513424250416\n",
       "\\item[12] 0.508102750209624\n",
       "\\item[13] 0.504691321749185\n",
       "\\item[14] 0.501279456419382\n",
       "\\item[15] 0.497867471933211\n",
       "\\item[16] 0.494455686048052\n",
       "\\item[17] 0.491044416447311\n",
       "\\item[18] 0.487633980622112\n",
       "\\item[19] 0.484224695753148\n",
       "\\item[20] 0.480816878592779\n",
       "\\item[21] 0.477410845347459\n",
       "\\item[22] 0.474006911560606\n",
       "\\item[23] 0.470605391995987\n",
       "\\item[24] 0.467206600521719\n",
       "\\item[25] 0.463810849994979\n",
       "\\item[26] 0.460418452147505\n",
       "\\item[27] 0.457029717471977\n",
       "\\item[28] 0.453644955109378\n",
       "\\item[29] 0.450264472737398\n",
       "\\item[30] 0.446888576459994\n",
       "\\item[31] 0.443517570698159\n",
       "\\item[32] 0.440151758082004\n",
       "\\item[33] 0.436791439344227\n",
       "\\item[34] 0.43343691321504\n",
       "\\end{description*}\n"
      ],
      "text/markdown": [
       "1\n",
       ":   0.5455091625003882\n",
       ":   0.5421233780587143\n",
       ":   0.5387336984639114\n",
       ":   0.5353404332054225\n",
       ":   0.5319438930963236\n",
       ":   0.5285443901604277\n",
       ":   0.5251422375184368\n",
       ":   0.5217377492732429\n",
       ":   0.51833124039444210\n",
       ":   0.51492302660218511\n",
       ":   0.51151342425041612\n",
       ":   0.50810275020962413\n",
       ":   0.50469132174918514\n",
       ":   0.50127945641938215\n",
       ":   0.49786747193321116\n",
       ":   0.49445568604805217\n",
       ":   0.49104441644731118\n",
       ":   0.48763398062211219\n",
       ":   0.48422469575314820\n",
       ":   0.48081687859277921\n",
       ":   0.47741084534745922\n",
       ":   0.47400691156060623\n",
       ":   0.47060539199598724\n",
       ":   0.46720660052171925\n",
       ":   0.46381084999497926\n",
       ":   0.46041845214750527\n",
       ":   0.45702971747197728\n",
       ":   0.45364495510937829\n",
       ":   0.45026447273739830\n",
       ":   0.44688857645999431\n",
       ":   0.44351757069815932\n",
       ":   0.44015175808200433\n",
       ":   0.43679143934422734\n",
       ":   0.43343691321504\n",
       "\n"
      ],
      "text/plain": [
       "        1         2         3         4         5         6         7         8 \n",
       "0.5455092 0.5421234 0.5387337 0.5353404 0.5319439 0.5285444 0.5251422 0.5217377 \n",
       "        9        10        11        12        13        14        15        16 \n",
       "0.5183312 0.5149230 0.5115134 0.5081028 0.5046913 0.5012795 0.4978675 0.4944557 \n",
       "       17        18        19        20        21        22        23        24 \n",
       "0.4910444 0.4876340 0.4842247 0.4808169 0.4774108 0.4740069 0.4706054 0.4672066 \n",
       "       25        26        27        28        29        30        31        32 \n",
       "0.4638108 0.4604185 0.4570297 0.4536450 0.4502645 0.4468886 0.4435176 0.4401518 \n",
       "       33        34 \n",
       "0.4367914 0.4334369 "
      ]
     },
     "metadata": {},
     "output_type": "display_data"
    }
   ],
   "source": [
    "p <- predict(logit, lohn.Modell, type = \"response\")\n",
    "p"
   ]
  }
 ],
 "metadata": {
  "kernelspec": {
   "display_name": "R",
   "language": "R",
   "name": "ir"
  },
  "language_info": {
   "codemirror_mode": "r",
   "file_extension": ".r",
   "mimetype": "text/x-r-source",
   "name": "R",
   "pygments_lexer": "r",
   "version": "3.4.2"
  }
 },
 "nbformat": 4,
 "nbformat_minor": 2
}
